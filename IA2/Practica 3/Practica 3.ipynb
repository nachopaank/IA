{
 "cells": [
  {
   "cell_type": "markdown",
   "metadata": {},
   "source": [
    "## Consulta 1\n",
    "\n",
    "Hans Zimmer (Q76364) es un famoso compositor de muchas bandas sonoras de\n",
    "películas. Vamos a comenzar por averiguar su fecha y lugar de nacimiento"
   ]
  },
  {
   "cell_type": "raw",
   "metadata": {},
   "source": [
    "SELECT ?fecha_de_nacimiento ?lugar_de_nacimientoLabel\n",
    "WHERE\n",
    "{\n",
    "  wd:Q76364 wdt:P569 ?fecha_de_nacimiento. #hans zimmer tiene fecha de nacimiento (P569)\n",
    "  wd:Q76364 wdt:P19 ?lugar_de_nacimiento. #hans zimmer tiene lugar de nacimiento (P19)\n",
    "\n",
    "  SERVICE wikibase:label { bd:serviceParam wikibase:language \"[AUTO_LANGUAGE]\". }\n",
    "}"
   ]
  },
  {
   "cell_type": "markdown",
   "metadata": {},
   "source": [
    "<html><head><meta charset=\"utf-8\"></head><body><table><thead><tr><th>fecha_de_nacimiento</th><th>lugar_de_nacimientoLabel</th></tr></thead><tbody><tr><td>1957-09-12T00:00:00Z</td><td>Fráncfort del Meno</td></tr></tbody></table></body></html>"
   ]
  },
  {
   "cell_type": "markdown",
   "metadata": {},
   "source": [
    "## Consulta 2\n",
    "A continuación, vamos a averiguar los instrumentos que toca. Queremos obtener los\n",
    "resultados ordenados alfabéticamente por el nombre del instrumento."
   ]
  },
  {
   "cell_type": "raw",
   "metadata": {},
   "source": [
    "SELECT ?instrumentoLabel \n",
    "WHERE {\n",
    "  wd:Q76364 wdt:P1303 ?instrumento. #hans zimmer tiene instrumentos\n",
    "  SERVICE wikibase:label { bd:serviceParam wikibase:language \"[AUTO_LANGUAGE]\". }\n",
    "}\n",
    "ORDER BY ?instrumentoLabel #ordenar alfabeticamente"
   ]
  },
  {
   "cell_type": "markdown",
   "metadata": {},
   "source": [
    "<html><head><meta charset=\"utf-8\"></head><body><table><thead><tr><th>instrumentoLabel</th></tr></thead><tbody><tr><td>banjo</td></tr><tr><td>guitarra</td></tr><tr><td>guitarra bajo</td></tr><tr><td>piano</td></tr><tr><td>sintetizador</td></tr><tr><td>teclado</td></tr></tbody></table></body></html>"
   ]
  },
  {
   "cell_type": "markdown",
   "metadata": {},
   "source": [
    "## Consulta 3\n",
    "¿Cuales de los instrumentos que toca son instrumentos de cuerda? Ten en cuenta que\n",
    "los instrumentos pueden ser indirectamente de cuerda a través de varias relaciones\n",
    "subclase. "
   ]
  },
  {
   "cell_type": "raw",
   "metadata": {},
   "source": [
    "SELECT ?instrument ?instrumentLabel WHERE {\n",
    "  wd:Q76364 wdt:P1303 ?instrument. #hans zimmer tiene instrumentos\n",
    "  ?instrument wdt:P279* wd:Q1798603. #instrumento es subclase (recursivo) de instrumento de cuerda(Q1798603)\n",
    "  SERVICE wikibase:label { bd:serviceParam wikibase:language \"[AUTO_LANGUAGE]\". }\n",
    "}"
   ]
  },
  {
   "cell_type": "markdown",
   "metadata": {},
   "source": [
    "<html><head><meta charset=\"utf-8\"></head><body><table><thead><tr><th>instrument</th><th>instrumentLabel</th></tr></thead><tbody><tr><td>http://www.wikidata.org/entity/Q5994</td><td>piano</td></tr><tr><td>http://www.wikidata.org/entity/Q258896</td><td>banjo</td></tr><tr><td>http://www.wikidata.org/entity/Q6607</td><td>guitarra</td></tr><tr><td>http://www.wikidata.org/entity/Q46185</td><td>guitarra bajo</td></tr></tbody></table></body></html>"
   ]
  },
  {
   "cell_type": "markdown",
   "metadata": {},
   "source": [
    "## Consulta 4\n",
    "Zimmer ha recibido muchas nominaciones y premios a lo largo de su carrera.\n",
    "Queremos obtener una lista de nominaciones y para cada una de ellas el trabajo por el\n",
    "cual fue nominado. Para resolver esta consulta necesitarás acceder a los cualificadores\n",
    "de nodos sentencia y necesitarás entender los prefijos que usa Wikidata. \n"
   ]
  },
  {
   "cell_type": "raw",
   "metadata": {},
   "source": [
    "SELECT ?awardLabel ?workLabel\n",
    "WHERE\n",
    "{\n",
    "     wd:Q76364 p:P1411 ?statement. #prop de las nominaciones(P1411) de hans zimmer\n",
    "     ?statement ps:P1411 ?award. #statement del prop\n",
    "     ?statement pq:P1686 ?work. #cualificador del prop\n",
    "     SERVICE wikibase:label { bd:serviceParam wikibase:language \"en\". }\n",
    "}"
   ]
  },
  {
   "cell_type": "markdown",
   "metadata": {},
   "source": [
    "<html><head><meta charset=\"utf-8\"></head><body><table><thead><tr><th>awardLabel</th><th>workLabel</th></tr></thead><tbody><tr><td>Academy Award for Best Original Musical or Comedy Score</td><td>As Good as It Gets</td></tr><tr><td>Academy Award for Best Original Musical or Comedy Score</td><td>The Preacher's Wife</td></tr><tr><td>Academy Award for Best Original Score</td><td>The Lion King</td></tr><tr><td>Academy Award for Best Original Dramatic Score</td><td>The Thin Red Line</td></tr><tr><td>Academy Award for Best Original Score</td><td>Sherlock Holmes</td></tr><tr><td>Academy Award for Best Original Musical or Comedy Score</td><td>The Prince of Egypt</td></tr><tr><td>Academy Award for Best Original Score</td><td>Inception</td></tr><tr><td>Academy Award for Best Original Score</td><td>Gladiator</td></tr><tr><td>Academy Award for Best Original Score</td><td>Rain Man</td></tr><tr><td>Academy Award for Best Original Score</td><td>Interstellar</td></tr></tbody></table></body></html>"
   ]
  },
  {
   "cell_type": "markdown",
   "metadata": {},
   "source": [
    "## Consulta 5\n",
    "Ahora queremos conocer el título de todas las películas en las que Zimmer ha\n",
    "colaborado como compositor. Se mostrarán ordenadas alfabéticamente y debes tener\n",
    "cuidado de no mostrar resultados repetidos. "
   ]
  },
  {
   "cell_type": "raw",
   "metadata": {},
   "source": [
    "SELECT DISTINCT ?peliculaLabel WHERE {\n",
    "  ?pelicula wdt:P86 wd:Q76364. #composiciones de hans zimmer\n",
    "  ?pelicula wdt:P31/wdt:P279* wd:Q11424 #peliculas(Q11424) o subclases de peliculas\n",
    "  SERVICE wikibase:label { bd:serviceParam wikibase:language \"[AUTO_LANGUAGE],fr\". } #hay una pelicula en francés al final\n",
    "}\n",
    "ORDER BY ?peliculaLabel #orden alfabetico"
   ]
  },
  {
   "cell_type": "markdown",
   "metadata": {},
   "source": [
    "<html><head><meta charset=\"utf-8\"></head><body><table><thead><tr><th>peliculaLabel</th></tr></thead><tbody><tr><td>12 Years a Slave</td></tr><tr><td>A League of Their Own</td></tr><tr><td>A World Apart</td></tr><tr><td>Ability</td></tr><tr><td>Africa: The Serengeti</td></tr><tr><td>An Everlasting Piece</td></tr><tr><td>Angels &amp; Demons</td></tr><tr><td>As Good as It Gets</td></tr><tr><td>Backdraft</td></tr><tr><td>Batkid</td></tr><tr><td>Batman Begins</td></tr><tr><td>Batman v Superman: Dawn of Justice</td></tr><tr><td>Believer</td></tr><tr><td>Beyond Rangoon</td></tr><tr><td>Bird on a Wire</td></tr><tr><td>Black Hawk Down</td></tr><tr><td>Black Rain</td></tr><tr><td>Blade Runner 2049</td></tr><tr><td>Broken Arrow</td></tr><tr><td>Burning Secret</td></tr><tr><td>Calendar Girl</td></tr><tr><td>Chappie</td></tr><tr><td>Chicago Joe and the Showgirl</td></tr><tr><td>Chill Factor</td></tr><tr><td>Cool Runnings</td></tr><tr><td>Crimson Tide</td></tr><tr><td>Dark Obsession</td></tr><tr><td>Dark Phoenix</td></tr><tr><td>Days of Thunder</td></tr><tr><td>Driving Miss Daisy</td></tr><tr><td>Drop Zone</td></tr><tr><td>Dune</td></tr><tr><td>Dunkirk</td></tr><tr><td>Fools of Fortune</td></tr><tr><td>Founders of Isfahan college of Physics</td></tr><tr><td>Freeheld</td></tr><tr><td>Frost/Nixon</td></tr><tr><td>Gladiator</td></tr><tr><td>Green Card</td></tr><tr><td>Hannibal</td></tr><tr><td>Hidden Figures</td></tr><tr><td>Hillbilly Elegy</td></tr><tr><td>How Do You Know</td></tr><tr><td>I'll Do Anything</td></tr><tr><td>Inception</td></tr><tr><td>Inferno</td></tr><tr><td>Interstellar</td></tr><tr><td>Invincible</td></tr><tr><td>It's Complicated</td></tr><tr><td>King Arthur</td></tr><tr><td>Kung Fu Panda</td></tr><tr><td>Kung Fu Panda 2</td></tr><tr><td>Kung Fu Panda 3</td></tr><tr><td>Laura's Star</td></tr><tr><td>Madagascar</td></tr><tr><td>Madagascar 3: Europe's Most Wanted</td></tr><tr><td>Madagascar: Escape 2 Africa</td></tr><tr><td>Man of Steel</td></tr><tr><td>Matchstick Men</td></tr><tr><td>Megamind</td></tr><tr><td>Megamind: The Button of Doom</td></tr><tr><td>Mission: Impossible II</td></tr><tr><td>Mr. Morgan's Last Love</td></tr><tr><td>Muppet Treasure Island</td></tr><tr><td>Nightmare at Noon</td></tr><tr><td>Nine Months</td></tr><tr><td>No Time to Die</td></tr><tr><td>Pacific Heights</td></tr><tr><td>Pearl Harbor</td></tr><tr><td>Pirates of the Caribbean: At World's End</td></tr><tr><td>Pirates of the Caribbean: Dead Man's Chest</td></tr><tr><td>Pirates of the Caribbean: Dead Men Tell No Tales</td></tr><tr><td>Pirates of the Caribbean: On Stranger Tides</td></tr><tr><td>Pirates of the Caribbean: The Curse of the Black Pearl</td></tr><tr><td>Point of No Return</td></tr><tr><td>Radio Flyer</td></tr><tr><td>Rain Man</td></tr><tr><td>Rango</td></tr><tr><td>Regarding Henry</td></tr><tr><td>Renaissance Man</td></tr><tr><td>Riding in Cars with Boys</td></tr><tr><td>Rings</td></tr><tr><td>Rush</td></tr><tr><td>Sadako 3D</td></tr><tr><td>Separate Vacations</td></tr><tr><td>Shark Tale</td></tr><tr><td>Sherlock Holmes</td></tr><tr><td>Sherlock Holmes: A Game of Shadows</td></tr><tr><td>Something to Talk About</td></tr><tr><td>Something's Gotta Givej</td></tr><tr><td>Son of God</td></tr><tr><td>Son of Morning</td></tr><tr><td>Space Jam: A New Legacy</td></tr><tr><td>Spanglish</td></tr><tr><td>Spirit: Stallion of the Cimarron</td></tr><tr><td>Tears of the Sun</td></tr><tr><td>Terminal Exposure</td></tr><tr><td>The Amazing Spider-Man 2</td></tr><tr><td>The Bible</td></tr><tr><td>The Boat That Rocked</td></tr><tr><td>The Boss Baby</td></tr><tr><td>The Da Vinci Code</td></tr><tr><td>The Dark Knight</td></tr><tr><td>The Dark Knight Rises</td></tr><tr><td>The Dilemma</td></tr><tr><td>The Fan</td></tr><tr><td>The Fruit Machine</td></tr><tr><td>The Holiday</td></tr><tr><td>The House of the Spirits</td></tr><tr><td>The Last Days</td></tr><tr><td>The Last Face</td></tr><tr><td>The Last Samurai</td></tr><tr><td>The Lightship</td></tr><tr><td>The Lion King</td></tr><tr><td>The Lion King II: Simba's Pride</td></tr><tr><td>The Little Prince</td></tr><tr><td>The Lone Ranger</td></tr><tr><td>The Longest Daycare</td></tr><tr><td>The Peacemaker</td></tr><tr><td>The Power of One</td></tr><tr><td>The Preacher's Wife</td></tr><tr><td>The Prince of Egypt</td></tr><tr><td>The Punisher: Dirty Laundry</td></tr><tr><td>The Ring</td></tr><tr><td>The Road of Love</td></tr><tr><td>The Road to El Dorado</td></tr><tr><td>The Rock</td></tr><tr><td>The Secret Life of Pets</td></tr><tr><td>The Simpsons Movie</td></tr><tr><td>The SpongeBob Movie: Sponge on the Run</td></tr><tr><td>The Thin Red Line</td></tr><tr><td>The Weather Man</td></tr><tr><td>The Wind</td></tr><tr><td>The Woman in Gold</td></tr><tr><td>The Zero Boys</td></tr><tr><td>Thelma &amp; Louise</td></tr><tr><td>Top Gun: Maverick</td></tr><tr><td>Toys</td></tr><tr><td>True Romance</td></tr><tr><td>Twister</td></tr><tr><td>Two Deaths</td></tr><tr><td>White Fang</td></tr><tr><td>Widows</td></tr><tr><td>Winter's Tale</td></tr><tr><td>Wonder Woman 1984</td></tr><tr><td>Younger and Younger</td></tr><tr><td>La Légende de Shalimar</td></tr></tbody></table></body></html>"
   ]
  },
  {
   "cell_type": "markdown",
   "metadata": {},
   "source": [
    "## Consulta 6"
   ]
  },
  {
   "cell_type": "raw",
   "metadata": {},
   "source": [
    "SELECT (count(DISTINCT ?pelicula) AS ?cuenta) WHERE{ #cuenta del numero de peliculas\n",
    "    ?pelicula wdt:P86 wd:Q76364. #composiciones de hans zimmer\n",
    "    ?pelicula wdt:P31/wdt:P279* wd:Q11424 #que composiciones son de peliculas\n",
    "    SERVICE wikibase:label { bd:serviceParam wikibase:language \"[AUTO_LANGUAGE]\". }\n",
    "}"
   ]
  },
  {
   "cell_type": "markdown",
   "metadata": {},
   "source": [
    "<html><head><meta charset=\"utf-8\"></head><body><table><thead><tr><th>cuenta</th></tr></thead><tbody><tr><td>150</td></tr></tbody></table></body></html>"
   ]
  },
  {
   "cell_type": "markdown",
   "metadata": {},
   "source": [
    "## Consulta 7\n",
    "Es importante que las películas tengan una duración adecuada, ni muy cortas ni\n",
    "demasiado largas. De todas las películas en las que ha colaborado Zimmer como\n",
    "compositor, ¿cuáles duran entre 90 y 120 minutos? Muestra los resultados ordenados\n",
    "alfabéticamente. Para cada película muestra el título y la duración.\n",
    "\n",
    "Algunas películas (como Salto al peligro) pueden tener varias duraciones (supongo\n",
    "que son distintas versiones de la película). En este apartado no importa si aparecen\n",
    "varias veces en los resultados. "
   ]
  },
  {
   "cell_type": "raw",
   "metadata": {},
   "source": [
    "SELECT ?peliculaLabel ?duration WHERE {\n",
    "  ?pelicula wdt:P86 wd:Q76364. #compositor hans zimmer\n",
    "  ?pelicula wdt:P31/wdt:P279* wd:Q11424. #cuales de esas composiciones son peliculas (o subclases de peliculas)\n",
    "  ?pelicula wdt:P2047 ?duration. #duracion(P2047)\n",
    "  FILTER (?duration > 90 && ?duration < 120) #filtro entre 90 y 120 minutos de duracion\n",
    "  SERVICE wikibase:label { bd:serviceParam wikibase:language \"[AUTO_LANGUAGE]\". }\n",
    "}\n",
    "ORDER BY ?peliculaLabel #order alfabetico"
   ]
  },
  {
   "cell_type": "markdown",
   "metadata": {},
   "source": [
    "<html><head><meta charset=\"utf-8\"></head><body><table><thead><tr><th>peliculaLabel</th><th>duration</th></tr></thead><tbody><tr><td>A World Apart</td><td>112</td></tr><tr><td>An Everlasting Piece</td><td>108</td></tr><tr><td>Beyond Rangoon</td><td>95</td></tr><tr><td>Bird on a Wire</td><td>110</td></tr><tr><td>Broken Arrow</td><td>110</td></tr><tr><td>Chicago Joe and the Showgirl</td><td>103</td></tr><tr><td>Chill Factor</td><td>101</td></tr><tr><td>Cool Runnings</td><td>98</td></tr><tr><td>Crimson Tide</td><td>111</td></tr><tr><td>Dark Phoenix</td><td>114</td></tr><tr><td>Dark Phoenix</td><td>114</td></tr><tr><td>Days of Thunder</td><td>107</td></tr><tr><td>Driving Miss Daisy</td><td>99</td></tr><tr><td>Drop Zone</td><td>98</td></tr><tr><td>Drop Zone</td><td>101</td></tr><tr><td>Drop Zone</td><td>102</td></tr><tr><td>Dunkirk</td><td>106</td></tr><tr><td>Freeheld</td><td>103</td></tr><tr><td>Green Card</td><td>102</td></tr><tr><td>How Do You Know</td><td>116</td></tr><tr><td>I'll Do Anything</td><td>115</td></tr><tr><td>It's Complicated</td><td>118</td></tr><tr><td>Kung Fu Panda</td><td>92</td></tr><tr><td>Kung Fu Panda 2</td><td>91</td></tr><tr><td>Kung Fu Panda 3</td><td>95</td></tr><tr><td>Kung Fu Panda 3</td><td>95</td></tr><tr><td>Madagascar 3: Europe's Most Wanted</td><td>93</td></tr><tr><td>Madagascar 3: Europe's Most Wanted</td><td>93</td></tr><tr><td>Matchstick Men</td><td>111</td></tr><tr><td>Megamind</td><td>96</td></tr><tr><td>Mr. Morgan's Last Love</td><td>116</td></tr><tr><td>Muppet Treasure Island</td><td>99</td></tr><tr><td>Nightmare at Noon</td><td>96</td></tr><tr><td>Nine Months</td><td>103</td></tr><tr><td>Pacific Heights</td><td>103</td></tr><tr><td>Point of No Return</td><td>103</td></tr><tr><td>Radio Flyer</td><td>114</td></tr><tr><td>Rango</td><td>107</td></tr><tr><td>Regarding Henry</td><td>108</td></tr><tr><td>Renaissance Man</td><td>117</td></tr><tr><td>Sadako 3D</td><td>96</td></tr><tr><td>Sadako 3D</td><td>96</td></tr><tr><td>Something to Talk About</td><td>106</td></tr><tr><td>The Boss Baby</td><td>97</td></tr><tr><td>The Boss Baby</td><td>97</td></tr><tr><td>The Dilemma</td><td>111</td></tr><tr><td>The Fan</td><td>111</td></tr><tr><td>The Lightship</td><td>92</td></tr><tr><td>The Lion King</td><td>118</td></tr><tr><td>The Little Prince</td><td>108</td></tr><tr><td>The Little Prince</td><td>108</td></tr><tr><td>The Peacemaker</td><td>118</td></tr><tr><td>The Preacher's Wife</td><td>119</td></tr><tr><td>The Prince of Egypt</td><td>99</td></tr><tr><td>The Ring</td><td>116</td></tr><tr><td>The Weather Man</td><td>102</td></tr><tr><td>The Woman in Gold</td><td>109</td></tr><tr><td>Toys</td><td>116</td></tr><tr><td>Twister</td><td>93</td></tr><tr><td>Two Deaths</td><td>102</td></tr><tr><td>White Fang</td><td>104</td></tr><tr><td>Winter's Tale</td><td>118</td></tr></tbody></table></body></html>"
   ]
  },
  {
   "cell_type": "markdown",
   "metadata": {},
   "source": [
    "## Consulta 8\n",
    "Vamos a recuperar ahora las películas más actuales en las que Zimmer ha colaborado\n",
    "como compositor. Estamos interesados específicamente en películas que se hayan\n",
    "estrenado a partir de 2005.\n",
    "\n",
    "Seguramente, en tu primer intento verás que cada película aparece repetida varias veces con fechas distintas porque Wikidata contiene las fechas de estreno en cada país. Vamos a considerar que la fecha real de estreno de la película es la fecha más antigua de todas ellas.\n",
    "\n",
    "Para que cada película aparezca sólo una vez con la fecha correcta necesitarás agrupar las respuestas por película y título, y aplicar una función de agregación sobre las fechas de publicación. Los resultados se tienen que mostrar ordenados alfabéticamente. "
   ]
  },
  {
   "cell_type": "raw",
   "metadata": {},
   "source": [
    " SELECT DISTINCT ?peliculaLabel (MIN(?fecha) AS ?estreno) WHERE { #MIN,AS para que group by no los tenga en cuenta\n",
    "  ?pelicula wdt:P86 wd:Q76364. #composiciones de hans zimmer\n",
    "  ?pelicula wdt:P31/wdt:P279* wd:Q11424. #peliculas y subclases de peliculas de esas composiciones\n",
    "  ?pelicula wdt:P577 ?fecha. #fecha de estreno(P577)\n",
    "\n",
    "  SERVICE wikibase:label { bd:serviceParam wikibase:language \"[AUTO_LANGUAGE],fr\". }\n",
    "  FILTER((?fecha >= \"2005-01-01T00:00:00Z\"^^xsd:dateTime)) #filtro con parseo de fecha para que sean >= que 1 de enero de 2005\n",
    "\n",
    "}\n",
    "GROUP BY ?pelicula ?peliculaLabel #agrupación para que solo haya una pelicula por estreno\n",
    "ORDER BY ?peliculaLabel #orden alfabético"
   ]
  },
  {
   "cell_type": "markdown",
   "metadata": {},
   "source": [
    "<html><head><meta charset=\"utf-8\"></head><body><table><thead><tr><th>peliculaLabel</th><th>estreno</th></tr></thead><tbody><tr><td>12 Years a Slave</td><td>2013-08-30T00:00:00Z</td></tr><tr><td>Angels &amp; Demons</td><td>2009-01-01T00:00:00Z</td></tr><tr><td>Batkid</td><td>2015-01-01T00:00:00Z</td></tr><tr><td>Batman Begins</td><td>2005-06-15T00:00:00Z</td></tr><tr><td>Batman v Superman: Dawn of Justice</td><td>2016-03-23T00:00:00Z</td></tr><tr><td>Believer</td><td>2018-01-01T00:00:00Z</td></tr><tr><td>Blade Runner 2049</td><td>2017-10-03T00:00:00Z</td></tr><tr><td>Chappie</td><td>2015-03-05T00:00:00Z</td></tr><tr><td>Dark Phoenix</td><td>2019-06-05T00:00:00Z</td></tr><tr><td>Dune</td><td>2020-01-01T00:00:00Z</td></tr><tr><td>Dunkirk</td><td>2017-07-13T00:00:00Z</td></tr><tr><td>Freeheld</td><td>2015-01-01T00:00:00Z</td></tr><tr><td>Freeheld</td><td>2007-01-18T00:00:00Z</td></tr><tr><td>Frost/Nixon</td><td>2008-10-15T00:00:00Z</td></tr><tr><td>Hidden Figures</td><td>2016-12-26T00:00:00Z</td></tr><tr><td>How Do You Know</td><td>2010-01-01T00:00:00Z</td></tr><tr><td>Inception</td><td>2010-07-08T00:00:00Z</td></tr><tr><td>Inferno</td><td>2016-10-13T00:00:00Z</td></tr><tr><td>Interstellar</td><td>2014-10-26T00:00:00Z</td></tr><tr><td>It's Complicated</td><td>2009-12-24T00:00:00Z</td></tr><tr><td>Kung Fu Panda</td><td>2008-05-15T00:00:00Z</td></tr><tr><td>Kung Fu Panda 2</td><td>2011-05-22T00:00:00Z</td></tr><tr><td>Kung Fu Panda 3</td><td>2016-01-29T00:00:00Z</td></tr><tr><td>Madagascar</td><td>2005-05-27T00:00:00Z</td></tr><tr><td>Madagascar 3: Europe's Most Wanted</td><td>2012-06-06T00:00:00Z</td></tr><tr><td>Madagascar: Escape 2 Africa</td><td>2008-11-07T00:00:00Z</td></tr><tr><td>Man of Steel</td><td>2013-06-10T00:00:00Z</td></tr><tr><td>Megamind</td><td>2010-11-05T00:00:00Z</td></tr><tr><td>Megamind: The Button of Doom</td><td>2011-01-01T00:00:00Z</td></tr><tr><td>Mr. Morgan's Last Love</td><td>2013-06-01T00:00:00Z</td></tr><tr><td>No Time to Die</td><td>2020-11-12T00:00:00Z</td></tr><tr><td>Pirates of the Caribbean: At World's End</td><td>2007-05-23T00:00:00Z</td></tr><tr><td>Pirates of the Caribbean: Dead Man's Chest</td><td>2006-07-07T00:00:00Z</td></tr><tr><td>Pirates of the Caribbean: Dead Men Tell No Tales</td><td>2017-05-24T00:00:00Z</td></tr><tr><td>Pirates of the Caribbean: On Stranger Tides</td><td>2011-05-18T00:00:00Z</td></tr><tr><td>Rango</td><td>2011-02-14T00:00:00Z</td></tr><tr><td>Rings</td><td>2005-01-01T00:00:00Z</td></tr><tr><td>Rush</td><td>2013-09-02T00:00:00Z</td></tr><tr><td>Sadako 3D</td><td>2012-05-12T00:00:00Z</td></tr><tr><td>Sherlock Holmes</td><td>2009-12-24T00:00:00Z</td></tr><tr><td>Sherlock Holmes: A Game of Shadows</td><td>2011-12-16T00:00:00Z</td></tr><tr><td>Son of God</td><td>2014-02-28T00:00:00Z</td></tr><tr><td>Son of Morning</td><td>2011-01-01T00:00:00Z</td></tr><tr><td>Space Jam: A New Legacy</td><td>2021-07-16T00:00:00Z</td></tr><tr><td>Spanglish</td><td>2005-04-07T00:00:00Z</td></tr><tr><td>The Amazing Spider-Man 2</td><td>2014-04-17T00:00:00Z</td></tr><tr><td>The Bible</td><td>2013-03-03T00:00:00Z</td></tr><tr><td>The Boat That Rocked</td><td>2009-01-01T00:00:00Z</td></tr><tr><td>The Boss Baby</td><td>2017-01-01T00:00:00Z</td></tr><tr><td>The Da Vinci Code</td><td>2006-05-17T00:00:00Z</td></tr><tr><td>The Dark Knight</td><td>2008-07-18T00:00:00Z</td></tr><tr><td>The Dark Knight Rises</td><td>2012-07-20T00:00:00Z</td></tr><tr><td>The Dilemma</td><td>2011-01-01T00:00:00Z</td></tr><tr><td>The Holiday</td><td>2006-12-05T00:00:00Z</td></tr><tr><td>The Last Face</td><td>2015-01-01T00:00:00Z</td></tr><tr><td>The Lion King</td><td>2019-07-17T00:00:00Z</td></tr><tr><td>The Little Prince</td><td>2015-07-29T00:00:00Z</td></tr><tr><td>The Lone Ranger</td><td>2013-07-03T00:00:00Z</td></tr><tr><td>The Longest Daycare</td><td>2012-07-02T00:00:00Z</td></tr><tr><td>The Punisher: Dirty Laundry</td><td>2012-01-01T00:00:00Z</td></tr><tr><td>The Secret Life of Pets</td><td>2016-06-16T00:00:00Z</td></tr><tr><td>The Simpsons Movie</td><td>2007-07-25T00:00:00Z</td></tr><tr><td>The SpongeBob Movie: Sponge on the Run</td><td>2020-01-01T00:00:00Z</td></tr><tr><td>The Weather Man</td><td>2005-01-01T00:00:00Z</td></tr><tr><td>The Woman in Gold</td><td>2015-02-09T00:00:00Z</td></tr><tr><td>Top Gun: Maverick</td><td>2020-07-15T00:00:00Z</td></tr><tr><td>Widows</td><td>2018-11-06T00:00:00Z</td></tr><tr><td>Winter's Tale</td><td>2014-02-10T00:00:00Z</td></tr><tr><td>Wonder Woman 1984</td><td>2020-06-05T00:00:00Z</td></tr><tr><td>La Légende de Shalimar</td><td>2013-08-28T00:00:00Z</td></tr></tbody></table></body></html>"
   ]
  },
  {
   "cell_type": "markdown",
   "metadata": {},
   "source": [
    "## Consulta 9\n",
    "En una película pueden colaborar varios músicos. ¿Qué otros compositores han\n",
    "compuesto junto a Zimmer en una película? Para cada uno de ellos muestra su\n",
    "nombre, la fecha de nacimiento y (si ha fallecido) la fecha de defunción. Los resultados\n",
    "deben aparecer ordenados alfabéticamente."
   ]
  },
  {
   "cell_type": "raw",
   "metadata": {},
   "source": [
    "SELECT DISTINCT ?amigosLabel ?nacimiento ?muerte WHERE {\n",
    "  ?pelicula wdt:P86 wd:Q76364. #composiciones de hans zimmer\n",
    "  ?pelicula wdt:P31/wdt:P279* wd:Q11424. #que composiciones son de peliculas\n",
    "  ?pelicula wdt:P86 ?amigos. #todos los compositores de esas peliculas\n",
    "  ?amigos wdt:P569 ?nacimiento. #los nacimientos de todos esos compositores\n",
    "  OPTIONAL {?amigos wdt:P570 ?muerte} #las muertes de los compositores (opcional, pueden estar vivos)\n",
    "  SERVICE wikibase:label { bd:serviceParam wikibase:language \"[AUTO_LANGUAGE]\". }\n",
    "  FILTER(?amigos != wd:Q76364) #descarto al propio hans zimmer\n",
    "}\n",
    "ORDER BY ?amigosLabel #orden alfabético"
   ]
  },
  {
   "cell_type": "markdown",
   "metadata": {},
   "source": [
    "<html><head><meta charset=\"utf-8\"></head><body><table><thead><tr><th>amigosLabel</th><th>nacimiento</th><th>muerte</th></tr></thead><tbody><tr><td>Alexandre Desplat</td><td>1961-08-23T00:00:00Z</td><td></td></tr><tr><td>Alfredo Capalani</td><td>1854-06-19T00:00:00Z</td><td>1893-08-07T00:00:00Z</td></tr><tr><td>Barry Mann</td><td>1939-02-09T00:00:00Z</td><td></td></tr><tr><td>Basil Poledouris</td><td>1945-08-21T00:00:00Z</td><td>2006-11-08T00:00:00Z</td></tr><tr><td>Benjamin Wallfisch</td><td>1979-08-07T00:00:00Z</td><td></td></tr><tr><td>Cynthia Weil</td><td>1940-10-18T00:00:00Z</td><td></td></tr><tr><td>Djivan Gasparyan</td><td>1928-10-12T00:00:00Z</td><td></td></tr><tr><td>Elton John</td><td>1947-03-25T00:00:00Z</td><td></td></tr><tr><td>Harold Faltermeyer</td><td>1952-10-05T00:00:00Z</td><td></td></tr><tr><td>James Newton Howard</td><td>1951-06-09T00:00:00Z</td><td></td></tr><tr><td>Junkie XL</td><td>1967-12-08T00:00:00Z</td><td></td></tr><tr><td>Kenji Kawai</td><td>1957-04-23T00:00:00Z</td><td></td></tr><tr><td>Klaus Badelt</td><td>1967-06-12T00:00:00Z</td><td></td></tr><tr><td>Lisa Gerrard</td><td>1961-04-12T00:00:00Z</td><td></td></tr><tr><td>Lorne Balfe</td><td>1976-02-23T00:00:00Z</td><td></td></tr><tr><td>Nick Glennie-Smith</td><td>1951-10-03T00:00:00Z</td><td></td></tr><tr><td>Pharrell Williams</td><td>1973-04-05T00:00:00Z</td><td></td></tr><tr><td>Stanley Myers</td><td>1930-10-06T00:00:00Z</td><td>1993-11-09T00:00:00Z</td></tr><tr><td>Stanley Myers</td><td>1933-10-06T00:00:00Z</td><td>1993-11-09T00:00:00Z</td></tr><tr><td>Thomas Newman</td><td>1955-10-20T00:00:00Z</td><td></td></tr><tr><td>Tim Rice</td><td>1944-11-10T00:00:00Z</td><td></td></tr></tbody></table></body></html>"
   ]
  },
  {
   "cell_type": "markdown",
   "metadata": {},
   "source": [
    "## Consulta 10\n",
    "¿Cuántos asertos hay sobre Zimmer en Wikidata? Ten en cuenta que Zimmer puede\n",
    "aparecer tanto como sujeto como objeto de cada tripleta. "
   ]
  },
  {
   "cell_type": "raw",
   "metadata": {},
   "source": [
    "SELECT ?Asertos WHERE {\n",
    "  {\n",
    "  SELECT (count(DISTINCT ?w) as  ?a) WHERE{ #los items de zimmer como objeto\n",
    "    wd:Q76364 ?statement ?w.\n",
    "    SERVICE wikibase:label { bd:serviceParam wikibase:language \"[AUTO_LANGUAGE]\". }\n",
    "  }\n",
    "  }\n",
    "  {\n",
    "  SELECT (count(DISTINCT ?q) as  ?b) WHERE{ #los items de zimmer como sujeto\n",
    "    ?q ?statement wd:Q76364.\n",
    "    SERVICE wikibase:label { bd:serviceParam wikibase:language \"[AUTO_LANGUAGE]\". }\n",
    "  }\n",
    "  }\n",
    "  BIND(?a + ?b as ?Asertos)\n",
    "}"
   ]
  },
  {
   "cell_type": "markdown",
   "metadata": {},
   "source": [
    "<html><head><meta charset=\"utf-8\"></head><body><table><thead><tr><th>Asertos</th></tr></thead><tbody><tr><td>1147</td></tr></tbody></table></body></html>"
   ]
  }
 ],
 "metadata": {
  "kernelspec": {
   "display_name": "Python 3",
   "language": "python",
   "name": "python3"
  },
  "language_info": {
   "codemirror_mode": {
    "name": "ipython",
    "version": 3
   },
   "file_extension": ".py",
   "mimetype": "text/x-python",
   "name": "python",
   "nbconvert_exporter": "python",
   "pygments_lexer": "ipython3",
   "version": "3.7.6"
  }
 },
 "nbformat": 4,
 "nbformat_minor": 4
}
