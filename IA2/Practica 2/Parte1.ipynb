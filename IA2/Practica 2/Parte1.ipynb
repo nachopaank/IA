{
 "cells": [
  {
   "cell_type": "markdown",
   "metadata": {},
   "source": [
    "Parte 1. Apartado A:"
   ]
  },
  {
   "cell_type": "code",
   "execution_count": 1,
   "metadata": {},
   "outputs": [
    {
     "name": "stdout",
     "output_type": "stream",
     "text": [
      "466551\n"
     ]
    }
   ],
   "source": [
    "import numpy as np\n",
    "import numpy.ma as ma\n",
    "from sklearn.feature_extraction.text import CountVectorizer\n",
    "from sklearn.feature_extraction.text import TfidfTransformer\n",
    "\n",
    "# Pasamos el fichero a una lista (una línea por item)\n",
    "with open('words.txt') as f:\n",
    "    dictionary = f.read().splitlines()\n",
    "\n",
    "# El diccionario cargado lo pasamos en el parámetro vocabulary    \n",
    "vectorizer = CountVectorizer(vocabulary=dictionary, stop_words='english')\n",
    "\n",
    "feature_names = vectorizer.get_feature_names()\n",
    "\n",
    "print(len(feature_names))"
   ]
  },
  {
   "cell_type": "code",
   "execution_count": 2,
   "metadata": {},
   "outputs": [],
   "source": [
    "import pandas as pd\n",
    "\n",
    "data= pd.read_csv(\"yelp_labelled.txt\",sep=\"\\t\",names=[\"frase\",\"tipo\"])"
   ]
  },
  {
   "cell_type": "code",
   "execution_count": 3,
   "metadata": {},
   "outputs": [
    {
     "name": "stdout",
     "output_type": "stream",
     "text": [
      "                                                 frase  tipo\n",
      "0                             Wow... Loved this place.     1\n",
      "1                                   Crust is not good.     0\n",
      "2            Not tasty and the texture was just nasty.     0\n",
      "3    Stopped by during the late May bank holiday of...     1\n",
      "4    The selection on the menu was great and so wer...     1\n",
      "..                                                 ...   ...\n",
      "995  I think food should have flavor and texture an...     0\n",
      "996                           Appetite instantly gone.     0\n",
      "997  Overall I was not impressed and would not go b...     0\n",
      "998  The whole experience was underwhelming, and I ...     0\n",
      "999  Then, as if I hadn't wasted enough of my life ...     0\n",
      "\n",
      "[1000 rows x 2 columns]\n"
     ]
    }
   ],
   "source": [
    "print(data)"
   ]
  },
  {
   "cell_type": "code",
   "execution_count": 21,
   "metadata": {},
   "outputs": [],
   "source": [
    "from sklearn.model_selection import train_test_split\n",
    "from sklearn.naive_bayes import MultinomialNB\n",
    "\n",
    "x_train, x_test, y_train, y_test = train_test_split(data.frase,data.tipo, test_size=0.25)\n"
   ]
  },
  {
   "cell_type": "code",
   "execution_count": 38,
   "metadata": {},
   "outputs": [],
   "source": [
    "vectorizer1 = CountVectorizer(stop_words='english', binary=False, ngram_range=(1,1))\n",
    "vectorizer2 = CountVectorizer(stop_words='english', binary=False, ngram_range=(1,2))\n",
    "vectorizer3 = CountVectorizer(stop_words='english', binary=True, ngram_range=(1,1))\n",
    "vectorizer4 = CountVectorizer(stop_words='english', binary=True, ngram_range=(1,2))"
   ]
  },
  {
   "cell_type": "code",
   "execution_count": 39,
   "metadata": {},
   "outputs": [],
   "source": [
    "tfidfer = TfidfTransformer()\n",
    "\n",
    "# train 1\n",
    "train_vector_data1 = vectorizer1.fit_transform(x_train)\n",
    "train_vector_data1 = vectorizer1.transform(x_train)\n",
    "train_preprocessed1 = tfidfer.fit_transform(train_vector_data1)\n",
    "# test 1\n",
    "test_vector_data1 = vectorizer1.fit_transform(x_train)\n",
    "test_vector_data1 = vectorizer1.transform(x_test)\n",
    "test_preprocessed1 = tfidfer.fit_transform(test_vector_data1)\n",
    "# train 2\n",
    "train_vector_data2 = vectorizer2.fit_transform(x_train)\n",
    "train_vector_data2 = vectorizer2.transform(x_train)\n",
    "train_preprocessed2 = tfidfer.fit_transform(train_vector_data2)\n",
    "# test 2\n",
    "test_vector_data2 = vectorizer2.fit_transform(x_train)\n",
    "test_vector_data2 = vectorizer2.transform(x_test)\n",
    "test_preprocessed2 = tfidfer.fit_transform(test_vector_data2)\n",
    "# train 3\n",
    "train_vector_data3 = vectorizer3.fit_transform(x_train)\n",
    "train_vector_data3 = vectorizer3.transform(x_train)\n",
    "# test 3\n",
    "test_vector_data3 = vectorizer3.fit_transform(x_train)\n",
    "test_vector_data3 = vectorizer3.transform(x_test)\n",
    "# train 4 \n",
    "train_vector_data4 = vectorizer4.fit_transform(x_train)\n",
    "train_vector_data4 = vectorizer4.transform(x_train)\n",
    "# test 4\n",
    "test_vector_data4 = vectorizer4.fit_transform(x_train)\n",
    "test_vector_data4 = vectorizer4.transform(x_test)\n"
   ]
  },
  {
   "cell_type": "code",
   "execution_count": 40,
   "metadata": {},
   "outputs": [
    {
     "name": "stdout",
     "output_type": "stream",
     "text": [
      "Multinomial Naive Bayes, porcentaje de aciertos en entrenamiento: 0.964\n",
      "Multinomial Naive Bayes, porcentaje de aciertos en test: 0.756\n",
      "Multinomial Naive Bayes, porcentaje de aciertos en entrenamiento: 0.9933333333333333\n",
      "Multinomial Naive Bayes, porcentaje de aciertos en test: 0.76\n",
      "Gaussian Naive Bayes, porcentaje de aciertos en entrenamiento: 0.952\n",
      "Gaussian Naive Bayes, porcentaje de aciertos en test: 0.652\n",
      "Gaussian Naive Bayes, porcentaje de aciertos en entrenamiento: 0.9733333333333334\n",
      "Gaussian Naive Bayes, porcentaje de aciertos en test: 0.656\n"
     ]
    }
   ],
   "source": [
    "from sklearn.naive_bayes import MultinomialNB\n",
    "from sklearn.naive_bayes import GaussianNB\n",
    "\n",
    "mnb_classifier = MultinomialNB()\n",
    "mnb_classifier.fit(train_preprocessed1,y_train)\n",
    "mnb_train_predictions1 = mnb_classifier.predict(train_preprocessed1)\n",
    "mnb_test_predictions1 = mnb_classifier.predict(test_preprocessed1)                                                                                                           \n",
    "print(\"Multinomial Naive Bayes, porcentaje de aciertos en entrenamiento:\", np.mean(mnb_train_predictions1 == y_train))\n",
    "print(\"Multinomial Naive Bayes, porcentaje de aciertos en test:\", np.mean(mnb_test_predictions1 == y_test))\n",
    "\n",
    "\n",
    "mnb_classifier.fit(train_preprocessed2,y_train)\n",
    "mnb_train_predictions2 = mnb_classifier.predict(train_preprocessed2)\n",
    "mnb_test_predictions2 = mnb_classifier.predict(test_preprocessed2)                                                                                                            \n",
    "print(\"Multinomial Naive Bayes, porcentaje de aciertos en entrenamiento:\", np.mean(mnb_train_predictions2 == y_train))\n",
    "print(\"Multinomial Naive Bayes, porcentaje de aciertos en test:\", np.mean(mnb_test_predictions2 == y_test))\n",
    "\n",
    "\n",
    "gsn_classifier = GaussianNB()\n",
    "gsn_classifier.fit(train_preprocessed3.toarray(),y_train)\n",
    "gsn_train_predictions1 = gsn_classifier.predict(train_preprocessed3.toarray())\n",
    "gsn_test_predictions1 = gsn_classifier.predict(test_preprocessed3.toarray())\n",
    "print(\"Gaussian Naive Bayes, porcentaje de aciertos en entrenamiento:\", np.mean(gsn_train_predictions1 == y_train))\n",
    "print(\"Gaussian Naive Bayes, porcentaje de aciertos en test:\", np.mean(gsn_test_predictions1 == y_test))\n",
    "\n",
    "\n",
    "\n",
    "gsn_classifier.fit(train_preprocessed4.toarray(),y_train)\n",
    "gsn_train_predictions2 = gsn_classifier.predict(train_preprocessed4.toarray())\n",
    "gsn_test_predictions2 = gsn_classifier.predict(test_preprocessed4.toarray())\n",
    "print(\"Gaussian Naive Bayes, porcentaje de aciertos en entrenamiento:\", np.mean(gsn_train_predictions2 == y_train))\n",
    "print(\"Gaussian Naive Bayes, porcentaje de aciertos en test:\", np.mean(gsn_test_predictions2 == y_test))\n"
   ]
  },
  {
   "cell_type": "code",
   "execution_count": 68,
   "metadata": {},
   "outputs": [
    {
     "name": "stdout",
     "output_type": "stream",
     "text": [
      "Árbol, porcentaje de aciertos en entrenamiento: 0.9973333333333333\n",
      "Árbol, porcentaje de aciertos en test: 0.736\n",
      "Árbol, porcentaje de aciertos en entrenamiento: 0.8493333333333334\n",
      "Árbol, porcentaje de aciertos en test: 0.728\n"
     ]
    }
   ],
   "source": [
    "from sklearn import tree\n",
    "import numpy as np\n",
    "\n",
    "# Creamos el clasificador con los valores por defecto\n",
    "tree_classifier1 = tree.DecisionTreeClassifier()\n",
    "tree_classifier1.fit(train_preprocessed1, y_train)\n",
    "\n",
    "tree_train_predictions1 = tree_classifier1.predict(train_preprocessed1)\n",
    "tree_test_predictions1 = tree_classifier1.predict(test_preprocessed1)\n",
    "\n",
    "print(\"Árbol, porcentaje de aciertos en entrenamiento:\", np.mean(tree_train_predictions1 == y_train))\n",
    "print(\"Árbol, porcentaje de aciertos en test:\", np.mean(tree_test_predictions1 == y_test))\n",
    "\n",
    "tree_classifier2 = tree.DecisionTreeClassifier()\n",
    "tree_classifier2.fit(train_preprocessed2, y_train)\n",
    "\n",
    "tree_train_predictions2 = tree_classifier.predict(train_preprocessed2)\n",
    "tree_test_predictions2 = tree_classifier.predict(test_preprocessed2)\n",
    "\n",
    "print(\"Árbol, porcentaje de aciertos en entrenamiento:\", np.mean(tree_train_predictions2 == y_train))\n",
    "print(\"Árbol, porcentaje de aciertos en test:\", np.mean(tree_test_predictions2 == y_test))\n",
    "\n",
    "tree_classifier3 = tree.DecisionTreeClassifier()\n",
    "tree_classifier3.fit(train_preprocessed3, y_train)\n",
    "\n",
    "tree_train_predictions3 = tree_classifier.predict(train_preprocessed3)\n",
    "tree_test_predictions3 = tree_classifier.predict(test_preprocessed3)\n",
    "\n",
    "print(\"Árbol, porcentaje de aciertos en entrenamiento:\", np.mean(tree_train_predictions3 == y_train))\n",
    "print(\"Árbol, porcentaje de aciertos en test:\", np.mean(tree_test_predictions3 == y_test))\n",
    "\n"
   ]
  },
  {
   "cell_type": "code",
   "execution_count": 69,
   "metadata": {},
   "outputs": [],
   "source": [
    "from sklearn.model_selection import cross_validate\n",
    "import numpy as np\n",
    "\n",
    "train_accuracy = []\n",
    "test_accuracy = []\n",
    "\n",
    "max_depths = range(1, 10)\n",
    "for md in max_depths: \n",
    "    scores = cross_validate(tree_classifier1, train_preprocessed1, y_train, scoring='accuracy', cv=10, return_train_score=True)\n",
    "    \n",
    "    train_accuracy.append(np.mean(scores['train_score']))\n",
    "    test_accuracy.append(np.mean(scores['test_score']))"
   ]
  },
  {
   "cell_type": "code",
   "execution_count": 70,
   "metadata": {},
   "outputs": [
    {
     "data": {
      "image/png": "[encoded data removed]",
      "text/plain": [
       "<Figure size 432x288 with 1 Axes>"
      ]
     },
     "metadata": {
      "needs_background": "light"
     },
     "output_type": "display_data"
    }
   ],
   "source": [
    "import matplotlib.pyplot as plt\n",
    "\n",
    "# Draw lines\n",
    "plt.plot(max_depths, train_accuracy, color=\"r\",  label=\"Training\")\n",
    "plt.plot(max_depths, test_accuracy, color=\"g\", label=\"Test\")\n",
    "\n",
    "# Create plot\n",
    "plt.title(\"Curva de aprendizaje\")\n",
    "plt.xlabel(\"Parametro\"), plt.ylabel(\"Accuracy Score\"), plt.legend(loc=\"best\")\n",
    "plt.tight_layout()\n",
    "plt.show()  "
   ]
  }
 ],
 "metadata": {
  "kernelspec": {
   "display_name": "Python 3",
   "language": "python",
   "name": "python3"
  },
  "language_info": {
   "codemirror_mode": {
    "name": "ipython",
    "version": 3
   },
   "file_extension": ".py",
   "mimetype": "text/x-python",
   "name": "python",
   "nbconvert_exporter": "python",
   "pygments_lexer": "ipython3",
   "version": "3.7.6"
  }
 },
 "nbformat": 4,
 "nbformat_minor": 2
}
