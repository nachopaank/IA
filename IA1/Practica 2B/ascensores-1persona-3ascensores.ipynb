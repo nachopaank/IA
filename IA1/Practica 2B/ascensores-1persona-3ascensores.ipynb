{
 "cells": [
  {
   "cell_type": "markdown",
   "metadata": {},
   "source": [
    "### El problema de los misioneros y los caníbales en AIMA"
   ]
  },
  {
   "cell_type": "code",
   "execution_count": 78,
   "metadata": {},
   "outputs": [],
   "source": [
    "# importamos las cosas que vamos a usar de aima\n",
    "from search import *\n",
    "from search import breadth_first_tree_search, depth_first_tree_search, depth_first_graph_search, breadth_first_graph_search\n",
    "class ProblemaAscensores(Problem):\n",
    "    ''' Clase problema (formalizacion de nuestro problema) siguiendo la\n",
    "        estructura que aima espera que tengan los problemas.'''\n",
    "    def __init__(self, initial, goal=None):\n",
    "        '''Inicializacion de nuestro problema.'''\n",
    "        Problem.__init__(self, initial, goal)\n",
    "        self.goal = (5, 2, 6, 6, 11, 4)\n",
    "        # cada accion tiene un texto para identificar al operador y despues una tupla con la\n",
    "        # cantidad de misioneros y canibales que se mueven en la canoa\n",
    "        #self._actions = [('1c', (0,1)), ('1m', (1, 0)), ('2c', (0, 2)), ('2m', (2, 0)), ('1m1c', (1, 1))]\n",
    "\n",
    "    def actions(self, s):\n",
    "        P = s[0]\n",
    "        A1 = s[1]\n",
    "        A2 = s[2]\n",
    "        A3= s[3]\n",
    "        accs=list()\n",
    "        if A1 > 0:\n",
    "            accs.append(\"Bajar A1\")\n",
    "            if A1 == P:\n",
    "                accs.append(\"Bajar A1 con P\")\n",
    "        if A1 < 4:\n",
    "            accs.append(\"Subir A1\")\n",
    "            if A1 == P:\n",
    "                accs.append(\"Subir A1 con P\")\n",
    "        if A2 > 4:\n",
    "            accs.append(\"Bajar A2\")\n",
    "            if A2 == P:\n",
    "                accs.append(\"Bajar A2 con P\")\n",
    "        if A2 < 8:\n",
    "            accs.append(\"Subir A2\")\n",
    "            if A2 == P:\n",
    "                accs.append(\"Subir A2 con P\")\n",
    "        if A3 > 8:\n",
    "            accs.append(\"Bajar A3\")\n",
    "            if A3 == P:\n",
    "                accs.append(\"Bajar A3 con P\")\n",
    "        if A3 < 12:\n",
    "            accs.append(\"Subir A3\")\n",
    "            if A3 == P:\n",
    "                accs.append(\"Subir A3 con P\")\n",
    "        return accs\n",
    "\n",
    "    def _is_valid(self, s,ascensor):\n",
    "        as1 = s.index(ascensor+1)\n",
    "        valido = 1\n",
    "        if (ascensor == 13):\n",
    "            if (as1 > 3):\n",
    "                valido = -1\n",
    "        elif (as1 > 2):\n",
    "            valido = -1\n",
    "        return valido\n",
    "\n",
    "    def result(self, estado, accion):\n",
    "        lista = list(estado)\n",
    "        if accion == \"Bajar A1\":\n",
    "            lista[1] = lista[1] - 1\n",
    "        elif accion == \"Bajar A2\":\n",
    "            lista[2] -= 1\n",
    "        elif accion == \"Bajar A3\":\n",
    "            lista[3] -= 1\n",
    "        elif accion == \"Bajar A1 con P\":\n",
    "            lista[1] -= 1\n",
    "            lista[0] -= 1\n",
    "        elif accion == \"Bajar A2 con P\":\n",
    "            lista[2] -= 1\n",
    "            lista[0] -= 1\n",
    "        elif accion == \"Bajar A3 con P\":\n",
    "            lista[3] -= 1\n",
    "            lista[0] -= 1\n",
    "        elif accion == \"Subir A1\":\n",
    "            lista[1] += 1\n",
    "        elif accion == \"Subir A2\":\n",
    "            lista[2] += 1\n",
    "        elif accion == \"Subir A3\":\n",
    "            lista[3] += 1\n",
    "        elif accion == \"Subir A1 con P\":\n",
    "            lista[1] += 1\n",
    "            lista[0] += 1\n",
    "        elif accion == \"Subir A2 con P\":\n",
    "            lista[2] += 1\n",
    "            lista[0] += 1\n",
    "        elif accion == \"Subir A3 con P\":\n",
    "            lista[3] += 1\n",
    "            lista[0] += 1\n",
    "        return (lista[0],lista[1],lista[2],lista[3])\n",
    "       \n",
    "    def myHeuristic(self,node):\n",
    "        return abs(self.goal[0] - node.state[0])"
   ]
  },
  {
   "cell_type": "code",
   "execution_count": 79,
   "metadata": {},
   "outputs": [],
   "source": [
    "def resuelve_Ascensores(problema, algoritmo, h=None):\n",
    "    \"\"\"Función para aplicar un algoritmo de búsqueda dado al problema del ocho\n",
    "       puzzle, con un estado inicial dado y (cuando el algoritmo lo necesite)\n",
    "       una heurística dada.\n",
    "       Ejemplo de uso:\n",
    "           puzzle_1 = (2, 4, 3, 1, 5, 6, 7, 8, 0)\n",
    "           resuelve_ocho_puzzle(puzzle_1,astar_search,h2_ocho_puzzle)\n",
    "        Solución: ['Mover hueco arriba', 'Mover hueco izquierda', 'Mover hueco arriba', \n",
    "        'Mover hueco izquierda', 'Mover hueco abajo', 'Mover hueco derecha', 'Mover hueco derecha', 'Mover hueco abajo']\n",
    "        Algoritmo: astar_search\n",
    "        Heurística: h2_ocho_puzzle\n",
    "        Longitud de la solución: 8. Nodos analizados: 11\n",
    "       \"\"\"\n",
    "\n",
    "    p8p=Problema_con_Analizados(problema)\n",
    "    if p8p.check_solvability(p8p.initial):\n",
    "        if h: \n",
    "            sol= algoritmo(p8p,h).solution()\n",
    "        else: \n",
    "            sol= algoritmo(p8p).solution()\n",
    "        print(\"Solución: {0}\".format(sol))\n",
    "        print(\"Algoritmo: {0}\".format(algoritmo.__name__))\n",
    "        if h: \n",
    "            print(\"Heurística: {0}\".format(h.__name__))\n",
    "        else:\n",
    "            pass\n",
    "        print(\"Longitud de la solución: {0}. Nodos analizados: {1}\".format(len(sol),p8p.analizados))\n",
    "    else: \n",
    "        print(\"Este problema no tiene solucion. \")"
   ]
  },
  {
   "cell_type": "code",
   "execution_count": 80,
   "metadata": {},
   "outputs": [],
   "source": [
    "class Problema_con_Analizados(Problem):\n",
    "\n",
    "    \"\"\"Es un problema que se comporta exactamente igual que el que recibe al\n",
    "       inicializarse, y además incorpora unos atributos nuevos para almacenar el\n",
    "       número de nodos analizados durante la búsqueda. De esta manera, no\n",
    "       tenemos que modificar el código del algoritmo de búsqueda.\"\"\" \n",
    "         \n",
    "    def __init__(self, problem):\n",
    "        self.initial = problem.initial\n",
    "        self.problem = problem\n",
    "        self.analizados  = 0\n",
    "        self.goal = problem.goal\n",
    "\n",
    "    def actions(self, estado):\n",
    "        return self.problem.actions(estado)\n",
    "\n",
    "    def result(self, estado, accion):\n",
    "        return self.problem.result(estado, accion)\n",
    "\n",
    "    def goal_test(self, estado):\n",
    "        self.analizados += 1\n",
    "        return self.problem.goal_test(estado)\n",
    "\n",
    "    def coste_de_aplicar_accion(self, estado, accion):\n",
    "        return self.problem.coste_de_aplicar_accion(estado,accion)\n",
    "    \n",
    "    def check_solvability(self, state):\n",
    "        \"\"\" Checks if the given state is solvable \"\"\"\n",
    "\n",
    "        inversion = 0\n",
    "        for i in range(len(state)):\n",
    "            for j in range(i+1, len(state)):\n",
    "                if (state[i] > state[j]) and state[i] != 0 and state[j]!= 0:\n",
    "                    inversion += 1\n",
    "        \n",
    "        return inversion % 2 == 0   "
   ]
  },
  {
   "cell_type": "code",
   "execution_count": 81,
   "metadata": {},
   "outputs": [],
   "source": [
    "# creamos un problema a partir de nuestra formalizacion de ProblemaMisioneros\n",
    "# como parametros le pasamos el estado inicial, y el estado meta que esperamos\n",
    "estado = ProblemaAscensores((0,0, 6, 11), (5, 2, 6, 11))"
   ]
  },
  {
   "cell_type": "code",
   "execution_count": 82,
   "metadata": {},
   "outputs": [
    {
     "data": {
      "text/plain": [
       "['Subir A1', 'Subir A1 con P', 'Bajar A2', 'Subir A2', 'Bajar A3', 'Subir A3']"
      ]
     },
     "execution_count": 82,
     "metadata": {},
     "output_type": "execute_result"
    }
   ],
   "source": [
    "estado.actions(estado.initial)"
   ]
  },
  {
   "cell_type": "code",
   "execution_count": 83,
   "metadata": {},
   "outputs": [
    {
     "name": "stdout",
     "output_type": "stream",
     "text": [
      "Solución: ['Subir A1 con P', 'Subir A1 con P', 'Subir A1 con P', 'Subir A1 con P', 'Bajar A1', 'Bajar A1', 'Bajar A2', 'Bajar A2', 'Subir A2 con P', 'Subir A2']\n",
      "Algoritmo: breadth_first_graph_search\n",
      "Longitud de la solución: 10. Nodos analizados: 623\n",
      "Wall time: 46.6 ms\n"
     ]
    }
   ],
   "source": [
    "%%time\n",
    "# le decimos a aima que resuelva nuestro problema con el metodo de busqueda en amplitud\n",
    "resuelve_Ascensores(estado,breadth_first_graph_search)\n",
    "#resuelve_Ascensores(estado,astar_search,estado.myHeuristic)"
   ]
  },
  {
   "cell_type": "code",
   "execution_count": 84,
   "metadata": {},
   "outputs": [
    {
     "name": "stdout",
     "output_type": "stream",
     "text": [
      "Solución: ['Subir A3', 'Subir A2', 'Subir A2', 'Bajar A3', 'Bajar A3', 'Bajar A3', 'Bajar A3', 'Bajar A2', 'Bajar A2', 'Subir A3', 'Bajar A2', 'Subir A3', 'Bajar A2', 'Subir A3', 'Subir A3', 'Subir A1 con P', 'Subir A2', 'Bajar A3', 'Subir A1 con P', 'Bajar A3', 'Bajar A3', 'Bajar A3', 'Subir A2', 'Subir A2', 'Subir A3', 'Subir A3', 'Subir A3', 'Subir A3', 'Subir A2', 'Subir A1 con P', 'Bajar A3', 'Bajar A3', 'Bajar A3', 'Bajar A3', 'Subir A1 con P', 'Bajar A2', 'Subir A3', 'Subir A3', 'Subir A3', 'Subir A3', 'Bajar A2', 'Bajar A2', 'Bajar A3', 'Bajar A3', 'Bajar A3', 'Bajar A3', 'Bajar A2', 'Subir A2 con P', 'Subir A3', 'Subir A3', 'Subir A3', 'Subir A3', 'Subir A2 con P', 'Subir A2 con P', 'Bajar A3', 'Bajar A3', 'Bajar A3', 'Bajar A3', 'Subir A2 con P', 'Subir A3 con P', 'Subir A3 con P', 'Subir A3 con P', 'Subir A3 con P', 'Bajar A3', 'Bajar A3', 'Bajar A3', 'Bajar A3', 'Bajar A2', 'Bajar A2', 'Subir A3', 'Subir A3', 'Subir A3', 'Subir A3', 'Bajar A3 con P', 'Subir A3', 'Subir A2', 'Bajar A1', 'Bajar A3', 'Subir A3 con P', 'Bajar A3', 'Bajar A3', 'Bajar A3', 'Bajar A1', 'Bajar A3', 'Subir A2', 'Bajar A1', 'Subir A3', 'Subir A3', 'Subir A3', 'Subir A3', 'Bajar A3 con P', 'Subir A3', 'Bajar A2', 'Bajar A2', 'Bajar A3', 'Subir A3 con P', 'Bajar A3', 'Bajar A3', 'Bajar A3', 'Bajar A3', 'Bajar A2', 'Bajar A2', 'Subir A3', 'Subir A3', 'Subir A3', 'Subir A3', 'Bajar A3 con P', 'Subir A3', 'Subir A1', 'Subir A2', 'Bajar A3', 'Subir A3 con P', 'Bajar A3', 'Bajar A3', 'Bajar A3', 'Subir A1', 'Bajar A3', 'Bajar A2', 'Subir A1', 'Subir A3', 'Subir A3', 'Subir A3', 'Subir A3', 'Bajar A3 con P', 'Bajar A3 con P', 'Subir A3', 'Subir A3', 'Subir A2', 'Subir A2', 'Bajar A3', 'Subir A2', 'Bajar A1', 'Subir A3', 'Subir A2', 'Bajar A1', 'Bajar A3', 'Bajar A3', 'Bajar A3 con P', 'Subir A3', 'Subir A3', 'Subir A3', 'Bajar A2', 'Bajar A2', 'Bajar A3', 'Bajar A3', 'Bajar A3', 'Subir A3 con P', 'Subir A3', 'Subir A3', 'Bajar A2', 'Bajar A2', 'Bajar A3', 'Bajar A3', 'Bajar A3 con P', 'Subir A3', 'Subir A3', 'Subir A3', 'Subir A1', 'Subir A2', 'Bajar A3', 'Bajar A3', 'Bajar A3', 'Subir A3 con P', 'Bajar A3', 'Bajar A3', 'Subir A2', 'Subir A2', 'Subir A3', 'Bajar A1', 'Bajar A1', 'Subir A3', 'Subir A3', 'Subir A3', 'Bajar A1', 'Subir A2', 'Bajar A3', 'Bajar A3', 'Bajar A3 con P', 'Subir A3', 'Subir A3', 'Subir A3', 'Bajar A2', 'Bajar A2', 'Bajar A3', 'Bajar A3', 'Bajar A3', 'Subir A3 con P', 'Subir A3', 'Bajar A2', 'Bajar A2', 'Bajar A3', 'Bajar A3 con P', 'Bajar A3 con P', 'Subir A3', 'Subir A3', 'Subir A3', 'Subir A3', 'Subir A2', 'Subir A2', 'Bajar A3', 'Bajar A3', 'Bajar A3', 'Subir A2', 'Bajar A3', 'Subir A1', 'Subir A2', 'Subir A3', 'Subir A3', 'Subir A3', 'Subir A3', 'Bajar A2 con P', 'Subir A2', 'Bajar A3', 'Bajar A3', 'Bajar A3', 'Bajar A3', 'Subir A1', 'Bajar A2', 'Subir A3', 'Subir A3', 'Subir A3', 'Bajar A2 con P', 'Subir A3', 'Subir A2', 'Subir A2', 'Bajar A3', 'Bajar A3', 'Bajar A3', 'Bajar A3', 'Bajar A2', 'Subir A1', 'Subir A3', 'Subir A3', 'Bajar A2', 'Bajar A2', 'Subir A3', 'Subir A3', 'Bajar A2', 'Subir A1', 'Bajar A3', 'Bajar A3', 'Bajar A3', 'Bajar A3', 'Subir A2', 'Bajar A1', 'Bajar A1', 'Subir A3', 'Bajar A2', 'Subir A3', 'Subir A3', 'Bajar A1', 'Subir A3', 'Subir A2', 'Bajar A1', 'Bajar A3', 'Bajar A3', 'Bajar A3', 'Bajar A3', 'Subir A2', 'Subir A2', 'Subir A3', 'Subir A3', 'Subir A1', 'Bajar A2', 'Bajar A3', 'Bajar A2 con P', 'Bajar A3', 'Subir A2', 'Subir A2', 'Subir A3', 'Subir A3', 'Subir A3', 'Subir A3', 'Subir A2', 'Subir A1', 'Bajar A3', 'Bajar A3', 'Bajar A3', 'Bajar A3', 'Subir A1', 'Bajar A2', 'Subir A3', 'Subir A3', 'Subir A3', 'Subir A3', 'Bajar A2', 'Bajar A1', 'Bajar A3']\n",
      "Algoritmo: depth_first_graph_search\n",
      "Longitud de la solución: 288. Nodos analizados: 382\n"
     ]
    }
   ],
   "source": [
    "resuelve_Ascensores(estado,depth_first_graph_search)"
   ]
  },
  {
   "cell_type": "code",
   "execution_count": 58,
   "metadata": {},
   "outputs": [
    {
     "name": "stdout",
     "output_type": "stream",
     "text": [
      "Solución: [('1m1c', (1, 1)), ('1m', (1, 0)), ('2c', (0, 2)), ('1c', (0, 1)), ('2m', (2, 0)), ('1m1c', (1, 1)), ('2m', (2, 0)), ('1c', (0, 1)), ('2c', (0, 2)), ('1m', (1, 0)), ('1m1c', (1, 1))]\n",
      "Algoritmo: depth_first_graph_search\n",
      "Longitud de la solución: 11. Nodos analizados: 12\n",
      "Wall time: 0 ns\n"
     ]
    }
   ],
   "source": [
    "%%time\n",
    "# le decimos a aima que resuelva nuestro problema con el metodo de busqueda en profundidad\n",
    "resuelve_misioneros(estado,depth_first_graph_search)"
   ]
  },
  {
   "cell_type": "code",
   "execution_count": 59,
   "metadata": {},
   "outputs": [
    {
     "data": {
      "text/plain": [
       "[('1m1c', (1, 1)),\n",
       " ('1m', (1, 0)),\n",
       " ('2c', (0, 2)),\n",
       " ('1c', (0, 1)),\n",
       " ('2m', (2, 0)),\n",
       " ('1m1c', (1, 1)),\n",
       " ('2m', (2, 0)),\n",
       " ('1c', (0, 1)),\n",
       " ('2c', (0, 2)),\n",
       " ('1m', (1, 0)),\n",
       " ('1m1c', (1, 1))]"
      ]
     },
     "execution_count": 59,
     "metadata": {},
     "output_type": "execute_result"
    }
   ],
   "source": [
    "depth_first_graph_search(estado).solution()"
   ]
  },
  {
   "cell_type": "code",
   "execution_count": 60,
   "metadata": {},
   "outputs": [
    {
     "name": "stdout",
     "output_type": "stream",
     "text": [
      "Solución: [('1m1c', (1, 1)), ('1m', (1, 0)), ('2c', (0, 2)), ('1c', (0, 1)), ('2m', (2, 0)), ('1m1c', (1, 1)), ('2m', (2, 0)), ('1c', (0, 1)), ('2c', (0, 2)), ('1c', (0, 1)), ('2c', (0, 2))]\n",
      "Algoritmo: uniform_cost_search\n",
      "Longitud de la solución: 11. Nodos analizados: 15\n",
      "Wall time: 0 ns\n"
     ]
    }
   ],
   "source": [
    "%%time\n",
    "# le decimos a aima que resuelva nuestro problema con el metodo de busqueda de coste constanteS\n",
    "resuelve_misioneros(estado,uniform_cost_search)"
   ]
  },
  {
   "cell_type": "code",
   "execution_count": 61,
   "metadata": {},
   "outputs": [
    {
     "data": {
      "text/plain": [
       "[('1m1c', (1, 1)),\n",
       " ('1m', (1, 0)),\n",
       " ('2c', (0, 2)),\n",
       " ('1c', (0, 1)),\n",
       " ('2m', (2, 0)),\n",
       " ('1m1c', (1, 1)),\n",
       " ('2m', (2, 0)),\n",
       " ('1c', (0, 1)),\n",
       " ('2c', (0, 2)),\n",
       " ('1c', (0, 1)),\n",
       " ('2c', (0, 2))]"
      ]
     },
     "execution_count": 61,
     "metadata": {},
     "output_type": "execute_result"
    }
   ],
   "source": [
    "uniform_cost_search(estado).solution()"
   ]
  },
  {
   "cell_type": "markdown",
   "metadata": {},
   "source": [
    "### Ejercicio opcional. Define alguna heurística y estudia las propiedades del algoritmo A*"
   ]
  },
  {
   "cell_type": "code",
   "execution_count": 62,
   "metadata": {},
   "outputs": [
    {
     "name": "stdout",
     "output_type": "stream",
     "text": [
      "Solución: [('1m1c', (1, 1)), ('1m', (1, 0)), ('2c', (0, 2)), ('1c', (0, 1)), ('2m', (2, 0)), ('1m1c', (1, 1)), ('2m', (2, 0)), ('1c', (0, 1)), ('2c', (0, 2)), ('1c', (0, 1)), ('2c', (0, 2))]\n",
      "Algoritmo: astar_search\n",
      "Heurística: myHeuristic\n",
      "Longitud de la solución: 11. Nodos analizados: 14\n",
      "Wall time: 0 ns\n"
     ]
    }
   ],
   "source": [
    "%%time\n",
    "# le decimos a aima que resuelva nuestro problema con el metodo de busqueda de coste constanteS\n",
    "resuelve_misioneros(estado,astar_search,estado.myHeuristic)"
   ]
  },
  {
   "cell_type": "code",
   "execution_count": null,
   "metadata": {},
   "outputs": [],
   "source": []
  }
 ],
 "metadata": {
  "kernelspec": {
   "display_name": "Python 3",
   "language": "python",
   "name": "python3"
  },
  "language_info": {
   "codemirror_mode": {
    "name": "ipython",
    "version": 3
   },
   "file_extension": ".py",
   "mimetype": "text/x-python",
   "name": "python",
   "nbconvert_exporter": "python",
   "pygments_lexer": "ipython3",
   "version": "3.6.5"
  }
 },
 "nbformat": 4,
 "nbformat_minor": 2
}
