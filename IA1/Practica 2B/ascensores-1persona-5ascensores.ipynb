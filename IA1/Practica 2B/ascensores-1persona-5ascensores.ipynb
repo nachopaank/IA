{
 "cells": [
  {
   "cell_type": "markdown",
   "metadata": {},
   "source": [
    "# El problema de los Ascensores"
   ]
  },
  {
   "cell_type": "code",
   "execution_count": 9,
   "metadata": {},
   "outputs": [],
   "source": [
    "# importamos las cosas que vamos a usar de aima\n",
    "from search import *\n",
    "from search import breadth_first_tree_search, depth_first_tree_search, depth_first_graph_search, breadth_first_graph_search\n",
    "class ProblemaAscensores(Problem):\n",
    "    ''' Clase problema (formalizacion de nuestro problema) siguiendo la\n",
    "        estructura que aima espera que tengan los problemas.'''\n",
    "    def __init__(self,initial, goal=None):\n",
    "        '''Inicializacion de nuestro problema.'''\n",
    "        Problem.__init__(self, initial, goal)\n",
    "\n",
    "    def actions(self, s):\n",
    "        P = s[0]\n",
    "        A1 = s[1]\n",
    "        A2A = s[2]\n",
    "        A2B = s[3]\n",
    "        A3 = s[4]\n",
    "        AR = s[5]\n",
    "        accs=list()\n",
    "        if A1 > 0:\n",
    "            accs.append(\"Bajar A1\")\n",
    "            if A1 == P and P != self.goal[0]:\n",
    "                accs.append(\"Bajar A1 con P\")\n",
    "        if A1 < 4:\n",
    "            accs.append(\"Subir A1\")\n",
    "            if A1 == P and P != self.goal[0]:\n",
    "                accs.append(\"Subir A1 con P\")\n",
    "        if A2A > 4:\n",
    "            accs.append(\"Bajar A2A\")\n",
    "            if A2A == P and P != self.goal[0]:\n",
    "                accs.append(\"Bajar A2A con P\")\n",
    "        if A2A < 8:\n",
    "            accs.append(\"Subir A2A\")\n",
    "            if A2A == P and P != self.goal[0]:\n",
    "                accs.append(\"Subir A2A con P\")\n",
    "        if A2B > 4:\n",
    "            accs.append(\"Bajar A2B\")\n",
    "            if A2B == P and P != self.goal[0]:\n",
    "                accs.append(\"Bajar A2B con P\")\n",
    "        if A2B < 8:\n",
    "            accs.append(\"Subir A2B\")\n",
    "            if A2B == P and P != self.goal[0]:\n",
    "                accs.append(\"Subir A2B con P\")\n",
    "        if A3 > 8:\n",
    "            accs.append(\"Bajar A3\")\n",
    "            if A3 == P and P != self.goal[0]:\n",
    "                accs.append(\"Bajar A3 con P\")\n",
    "        if A3 < 12:\n",
    "            accs.append(\"Subir A3\")\n",
    "            if A3 == P and P != self.goal[0]:\n",
    "                accs.append(\"Subir A3 con P\")\n",
    "        if AR > 0:\n",
    "            accs.append(\"Bajar AR\")\n",
    "            if AR == P and P != self.goal[0]:\n",
    "                accs.append(\"Bajar AR con P\")\n",
    "        if AR < 12:\n",
    "            accs.append(\"Subir AR\")\n",
    "            if AR == P and P != self.goal[0]:\n",
    "                accs.append(\"Subir AR con P\")\n",
    "        \n",
    "        return accs\n",
    "\n",
    "    def _is_valid(self, s,ascensor):\n",
    "        as1 = s.index(ascensor+1)\n",
    "        valido = 1\n",
    "        if (ascensor == 13):\n",
    "            if (as1 > 3):\n",
    "                valido = -1\n",
    "        elif (as1 > 2):\n",
    "            valido = -1\n",
    "        return valido\n",
    "\n",
    "    def result(self, estado, accion):\n",
    "        lista = list(estado)\n",
    "        if accion == \"Bajar A1\":\n",
    "            lista[1] = lista[1] - 1\n",
    "        elif accion == \"Bajar A2A\":\n",
    "            lista[2] -= 1\n",
    "        elif accion == \"Bajar A2B\":\n",
    "            lista[3] -= 1\n",
    "        elif accion == \"Bajar A3\":\n",
    "            lista[4] -= 1\n",
    "        elif accion == \"Bajar AR\":\n",
    "            lista[5] -= 2\n",
    "        elif accion == \"Bajar A1 con P\":\n",
    "            lista[1] -= 1\n",
    "            lista[0] -= 1\n",
    "        elif accion == \"Bajar A2A con P\":\n",
    "            lista[2] -= 1\n",
    "            lista[0] -= 1\n",
    "        elif accion == \"Bajar A2B con P\":\n",
    "            lista[3] -= 1\n",
    "            lista[0] -= 1\n",
    "        elif accion == \"Bajar A3 con P\":\n",
    "            lista[4] -= 1\n",
    "            lista[0] -= 1\n",
    "        elif accion == \"Bajar AR con P\":\n",
    "            lista[5] -= 2\n",
    "            lista[0] -= 2\n",
    "        elif accion == \"Subir A1\":\n",
    "            lista[1] += 1\n",
    "        elif accion == \"Subir A2A\":\n",
    "            lista[2] += 1\n",
    "        elif accion == \"Subir A2B\":\n",
    "            lista[3] += 1\n",
    "        elif accion == \"Subir A3\":\n",
    "            lista[4] += 1\n",
    "        elif accion == \"Subir AR\":\n",
    "            lista[5] += 2\n",
    "        elif accion == \"Subir A1 con P\":\n",
    "            lista[1] += 1\n",
    "            lista[0] += 1\n",
    "        elif accion == \"Subir A2A con P\":\n",
    "            lista[2] += 1\n",
    "            lista[0] += 1\n",
    "        elif accion == \"Subir A2B con P\":\n",
    "            lista[3] += 1\n",
    "            lista[0] += 1\n",
    "        elif accion == \"Subir A3 con P\":\n",
    "            lista[4] += 1\n",
    "            lista[0] += 1\n",
    "        elif accion == \"Subir AR con P\":\n",
    "            lista[5] += 2\n",
    "            lista[0] += 2\n",
    "        return (lista[0],lista[1],lista[2],lista[3], lista[4],lista[5])\n",
    "       \n",
    "    def myHeuristic(self,node):\n",
    "        return abs(self.goal[0] - node.state[0])\n",
    "    \n",
    "    def myHeuristic2(self,node):\n",
    "        suma = 0\n",
    "        for i in range(5):\n",
    "            if i == 5:\n",
    "                suma += abs(self.goal[i] - node.state[i])/2\n",
    "            else:\n",
    "                suma += abs(self.goal[i] - node.state[i])\n",
    "        return suma"
   ]
  },
  {
   "cell_type": "code",
   "execution_count": 10,
   "metadata": {},
   "outputs": [],
   "source": [
    "def resuelve_Ascensores(problema, algoritmo, h=None):\n",
    "\n",
    "    pAs=Problema_con_Analizados(problema)\n",
    "    if pAs.check_solvability(pAs.initial):\n",
    "        if h: \n",
    "            sol= algoritmo(pAs,h).solution()\n",
    "        else: \n",
    "            sol= algoritmo(pAs).solution()\n",
    "        print(\"Solución: {0}\".format(sol))\n",
    "        print(\"Algoritmo: {0}\".format(algoritmo.__name__))\n",
    "        if h: \n",
    "            print(\"Heurística: {0}\".format(h.__name__))\n",
    "        else:\n",
    "            pass\n",
    "        print(\"Longitud de la solución: {0}. Nodos analizados: {1}\".format(len(sol),pAs.analizados))\n",
    "    else: \n",
    "        print(\"Este problema no tiene solucion. \")"
   ]
  },
  {
   "cell_type": "code",
   "execution_count": 11,
   "metadata": {},
   "outputs": [],
   "source": [
    "class Problema_con_Analizados(Problem):\n",
    "    \n",
    "    def __init__(self, problem):\n",
    "        self.initial = problem.initial\n",
    "        self.problem = problem\n",
    "        self.analizados  = 0\n",
    "        self.goal = problem.goal\n",
    "\n",
    "    def actions(self, estado):\n",
    "        return self.problem.actions(estado)\n",
    "\n",
    "    def result(self, estado, accion):\n",
    "        #print(self.problem.result(estado, accion))\n",
    "        return self.problem.result(estado, accion)\n",
    "\n",
    "    def goal_test(self, estado):\n",
    "        self.analizados += 1\n",
    "        return self.problem.goal_test(estado)\n",
    "\n",
    "    def coste_de_aplicar_accion(self, estado, accion):\n",
    "        return self.problem.coste_de_aplicar_accion(estado,accion)\n",
    "    \n",
    "    def check_solvability(self, state):\n",
    "        \"\"\" Checks if the given state is solvable \"\"\"\n",
    "\n",
    "        inversion = 0\n",
    "        for i in range(len(state)):\n",
    "            for j in range(i+1, len(state)):\n",
    "                if (state[i] > state[j]) and state[i] != 0 and state[j]!= 0:\n",
    "                    inversion += 1\n",
    "        return True\n",
    "        #return inversion % 2 == 0   "
   ]
  },
  {
   "cell_type": "code",
   "execution_count": 12,
   "metadata": {},
   "outputs": [
    {
     "data": {
      "text/plain": [
       "(0, 0, 8, 6, 11, 12)"
      ]
     },
     "execution_count": 12,
     "metadata": {},
     "output_type": "execute_result"
    }
   ],
   "source": [
    "# creamos un problema a partir de nuestra formalizacion de ProblemaMisioneros\n",
    "# como parametros le pasamos el estado inicial, y el estado meta que esperamos\n",
    "problema = ProblemaAscensores((0, 0, 8, 6, 11, 12), (5, 2, 6, 6, 11, 12))\n",
    "problema.initial"
   ]
  },
  {
   "cell_type": "code",
   "execution_count": 13,
   "metadata": {},
   "outputs": [
    {
     "data": {
      "text/plain": [
       "['Subir A1',\n",
       " 'Subir A1 con P',\n",
       " 'Bajar A2A',\n",
       " 'Bajar A2B',\n",
       " 'Subir A2B',\n",
       " 'Bajar A3',\n",
       " 'Subir A3',\n",
       " 'Bajar AR']"
      ]
     },
     "execution_count": 13,
     "metadata": {},
     "output_type": "execute_result"
    }
   ],
   "source": [
    "problema.actions(problema.initial)"
   ]
  },
  {
   "cell_type": "code",
   "execution_count": 14,
   "metadata": {},
   "outputs": [
    {
     "data": {
      "text/plain": [
       "(1, 1, 8, 6, 11, 12)"
      ]
     },
     "execution_count": 14,
     "metadata": {},
     "output_type": "execute_result"
    }
   ],
   "source": [
    "problema.result(problema.initial , \"Subir A1 con P\")"
   ]
  },
  {
   "cell_type": "markdown",
   "metadata": {},
   "source": [
    "## Búsquedas ciegas"
   ]
  },
  {
   "cell_type": "code",
   "execution_count": 15,
   "metadata": {},
   "outputs": [
    {
     "name": "stdout",
     "output_type": "stream",
     "text": [
      "Solución: ['Subir A1 con P', 'Subir A1 con P', 'Subir A1 con P', 'Subir A1 con P', 'Bajar A1', 'Bajar A1', 'Bajar A2A', 'Bajar A2A', 'Bajar A2A', 'Bajar A2A', 'Subir A2A con P', 'Subir A2A']\n",
      "Algoritmo: breadth_first_graph_search\n",
      "Longitud de la solución: 12. Nodos analizados: 14410\n",
      "Wall time: 34.9 s\n"
     ]
    }
   ],
   "source": [
    "%%time\n",
    "# le decimos a aima que resuelva nuestro problema con el metodo de busqueda en amplitud\n",
    "resuelve_Ascensores(problema,breadth_first_graph_search)"
   ]
  },
  {
   "cell_type": "code",
   "execution_count": 36,
   "metadata": {},
   "outputs": [
    {
     "name": "stdout",
     "output_type": "stream",
     "text": [
      "Solución: ['Subir A1 con P', 'Subir A1 con P', 'Subir A1 con P', 'Subir A1 con P', 'Bajar A1', 'Bajar A1', 'Bajar A2A', 'Bajar A2A', 'Bajar A2A', 'Bajar A2A', 'Subir A2A con P', 'Subir A2A']\n",
      "Algoritmo: uniform_cost_search\n",
      "Longitud de la solución: 12. Nodos analizados: 15114\n",
      "Wall time: 3min 3s\n"
     ]
    }
   ],
   "source": [
    "%%time\n",
    "# le decimos a aima que resuelva nuestro problema con el metodo de busqueda de coste constante\n",
    "resuelve_Ascensores(problema,uniform_cost_search)"
   ]
  },
  {
   "cell_type": "code",
   "execution_count": 33,
   "metadata": {},
   "outputs": [
    {
     "name": "stdout",
     "output_type": "stream",
     "text": [
      "Solución: ['Bajar AR', 'Bajar AR', 'Bajar AR', 'Bajar AR', 'Bajar AR', 'Bajar AR', 'Subir AR con P', 'Subir AR con P', 'Subir AR con P', 'Subir AR con P', 'Subir AR con P', 'Subir AR con P', 'Bajar AR', 'Bajar AR', 'Bajar AR', 'Bajar AR', 'Bajar AR', 'Bajar AR', 'Subir A3', 'Bajar A3 con P', 'Subir AR', 'Subir AR', 'Subir AR', 'Subir AR', 'Subir AR', 'Subir AR', 'Subir A3', 'Subir A2B', 'Bajar AR', 'Bajar AR', 'Bajar AR', 'Bajar AR', 'Bajar AR', 'Bajar AR', 'Subir A2B', 'Bajar A3', 'Subir AR', 'Subir AR', 'Subir AR', 'Subir AR', 'Subir AR', 'Subir AR', 'Subir A3 con P', 'Bajar AR con P', 'Subir AR', 'Bajar A3', 'Bajar A2B', 'Bajar A3', 'Bajar AR', 'Subir AR con P', 'Bajar AR', 'Bajar AR', 'Bajar AR', 'Bajar AR', 'Bajar AR', 'Bajar AR', 'Bajar A3', 'Bajar A3', 'Subir AR', 'Subir AR', 'Subir AR', 'Subir AR', 'Subir AR', 'Subir AR', 'Bajar AR con P', 'Subir AR', 'Subir A2B', 'Subir A3', 'Bajar AR', 'Subir AR con P', 'Bajar AR', 'Bajar AR', 'Bajar AR', 'Bajar AR', 'Bajar AR', 'Bajar A2A', 'Bajar AR', 'Subir A3', 'Subir A3', 'Subir AR', 'Subir AR', 'Subir AR', 'Subir AR', 'Subir AR', 'Subir AR', 'Bajar AR con P', 'Bajar AR con P', 'Subir AR', 'Subir AR', 'Subir A3', 'Bajar A2B con P', 'Bajar AR', 'Bajar AR', 'Bajar AR', 'Bajar AR', 'Bajar AR', 'Bajar AR', 'Bajar A3', 'Bajar A3', 'Subir AR', 'Subir AR', 'Subir AR', 'Subir AR', 'Subir AR', 'Subir AR', 'Bajar A3', 'Bajar A3', 'Bajar AR', 'Bajar AR', 'Bajar AR', 'Bajar AR', 'Bajar AR', 'Bajar AR', 'Subir A2B con P', 'Subir A3 con P', 'Subir AR', 'Subir AR', 'Subir AR', 'Subir AR', 'Subir AR', 'Subir AR', 'Subir A3 con P', 'Bajar A2A', 'Bajar AR', 'Subir AR con P', 'Bajar AR', 'Bajar AR', 'Bajar AR', 'Bajar AR', 'Bajar AR', 'Bajar A2B', 'Bajar AR', 'Subir A3', 'Subir A3', 'Subir AR', 'Subir AR', 'Subir AR', 'Subir AR', 'Subir AR', 'Subir AR', 'Bajar AR con P', 'Subir AR', 'Bajar A3', 'Bajar A2B', 'Bajar AR', 'Subir AR con P', 'Bajar AR', 'Bajar AR', 'Bajar AR', 'Bajar AR', 'Bajar AR', 'Bajar A2B', 'Bajar AR', 'Subir A3', 'Bajar A3 con P', 'Subir AR', 'Subir AR', 'Subir AR', 'Subir AR', 'Subir AR', 'Subir AR', 'Subir A3 con P', 'Bajar AR con P', 'Subir AR', 'Bajar A2B', 'Bajar A3', 'Bajar AR', 'Subir AR con P', 'Bajar AR', 'Bajar AR', 'Bajar AR', 'Bajar AR', 'Subir A3', 'Bajar AR', 'Subir A2A', 'Bajar AR', 'Bajar A3 con P', 'Subir A3', 'Subir AR', 'Subir AR', 'Subir AR', 'Subir AR', 'Subir AR', 'Subir AR', 'Bajar A3', 'Subir A3 con P', 'Bajar AR con P', 'Bajar AR con P', 'Subir AR', 'Subir AR', 'Bajar A3', 'Bajar A3', 'Bajar AR', 'Bajar AR', 'Subir AR con P', 'Subir AR con P', 'Bajar AR', 'Bajar AR', 'Bajar AR', 'Bajar AR', 'Bajar AR', 'Bajar AR', 'Bajar A3', 'Bajar A3', 'Subir AR', 'Subir AR', 'Subir AR', 'Subir AR', 'Subir AR', 'Subir AR', 'Bajar AR con P', 'Subir AR', 'Subir A3', 'Subir A2B', 'Bajar AR', 'Subir AR con P', 'Bajar AR', 'Bajar AR', 'Bajar AR', 'Bajar AR', 'Bajar AR', 'Subir A2B', 'Bajar AR', 'Subir A3', 'Subir A1', 'Subir AR', 'Subir AR', 'Subir AR', 'Subir AR', 'Subir AR', 'Subir AR', 'Bajar AR con P', 'Subir AR', 'Subir A3 con P', 'Subir A3 con P', 'Bajar AR con P', 'Subir AR', 'Subir A2B', 'Bajar A3', 'Bajar AR', 'Subir AR con P', 'Bajar AR', 'Bajar AR', 'Bajar AR', 'Bajar AR', 'Bajar AR', 'Bajar AR', 'Subir A3', 'Bajar A3 con P', 'Subir AR', 'Subir AR', 'Subir AR', 'Subir AR', 'Subir AR', 'Subir A3', 'Subir AR', 'Subir A2B', 'Bajar A3', 'Subir A3 con P', 'Bajar AR con P', 'Bajar AR con P', 'Subir AR', 'Bajar A2B', 'Subir AR', 'Bajar A3', 'Bajar A3', 'Bajar AR', 'Bajar AR', 'Bajar AR con P', 'Subir AR', 'Subir AR', 'Subir AR', 'Subir A3', 'Subir A3', 'Bajar AR', 'Bajar AR', 'Bajar AR', 'Bajar AR con P', 'Subir AR', 'Subir AR', 'Subir AR', 'Subir AR', 'Bajar A3', 'Bajar A3', 'Bajar AR', 'Bajar AR', 'Bajar AR', 'Bajar A3', 'Bajar AR', 'Bajar AR con P', 'Subir AR', 'Subir AR', 'Subir AR', 'Subir AR', 'Subir AR', 'Subir A3', 'Subir A3', 'Bajar AR', 'Bajar AR', 'Bajar AR', 'Bajar AR', 'Bajar AR', 'Bajar AR con P', 'Subir AR', 'Subir AR', 'Subir AR', 'Subir AR', 'Subir AR', 'Subir AR', 'Subir A3', 'Subir A2B', 'Bajar AR', 'Bajar AR', 'Bajar AR', 'Bajar AR', 'Bajar AR', 'Bajar AR', 'Subir AR con P', 'Subir AR', 'Subir AR', 'Subir AR', 'Subir AR', 'Subir AR', 'Subir A2A', 'Bajar A3', 'Bajar AR', 'Bajar AR', 'Bajar AR', 'Bajar AR', 'Bajar AR', 'Subir AR con P', 'Subir AR con P', 'Subir AR con P', 'Subir AR con P', 'Subir AR con P', 'Bajar AR', 'Bajar AR', 'Bajar AR', 'Bajar AR', 'Bajar AR', 'Bajar AR', 'Subir A3', 'Subir A1', 'Subir AR', 'Subir AR', 'Subir AR', 'Subir AR', 'Subir AR', 'Subir AR', 'Bajar AR con P', 'Subir AR', 'Bajar A3', 'Bajar A3', 'Bajar AR', 'Subir AR con P', 'Bajar AR', 'Bajar AR', 'Bajar AR', 'Bajar AR', 'Bajar AR', 'Bajar AR', 'Bajar A3', 'Bajar A3', 'Subir AR', 'Subir AR', 'Subir AR', 'Subir AR', 'Subir AR', 'Subir AR', 'Bajar AR con P', 'Subir AR', 'Bajar A2B', 'Subir A3', 'Bajar AR', 'Subir AR con P', 'Bajar AR', 'Bajar AR', 'Bajar AR', 'Bajar AR', 'Bajar AR', 'Bajar A2B', 'Bajar AR', 'Subir A3', 'Subir A3', 'Subir AR', 'Subir AR', 'Subir AR', 'Subir AR', 'Subir AR', 'Subir AR', 'Bajar AR con P', 'Subir AR', 'Subir A3', 'Bajar A2B', 'Bajar AR', 'Subir AR con P', 'Bajar AR', 'Bajar AR', 'Bajar AR', 'Bajar AR', 'Bajar AR', 'Bajar AR', 'Bajar A3 con P', 'Subir A3', 'Subir AR', 'Subir AR', 'Subir AR', 'Subir AR', 'Subir AR', 'Subir AR', 'Subir A2B', 'Bajar A3', 'Bajar AR', 'Bajar AR', 'Bajar AR', 'Bajar AR', 'Bajar AR', 'Bajar A3 con P', 'Bajar AR', 'Subir A3', 'Subir A3', 'Subir AR', 'Subir AR', 'Subir AR', 'Subir AR', 'Subir A2B', 'Bajar A3', 'Bajar AR', 'Bajar AR', 'Bajar AR', 'Subir A2B', 'Bajar AR', 'Subir A3', 'Bajar A2A', 'Subir AR', 'Subir AR', 'Subir AR', 'Subir AR', 'Bajar A3', 'Subir AR', 'Subir AR con P', 'Bajar AR', 'Bajar AR', 'Bajar AR', 'Bajar AR', 'Bajar AR', 'Bajar AR', 'Bajar A2A', 'Subir A3', 'Subir AR', 'Subir AR', 'Subir AR', 'Subir AR', 'Subir AR', 'Subir AR', 'Bajar AR con P', 'Subir AR', 'Bajar A3', 'Bajar A3', 'Bajar AR', 'Subir AR con P', 'Bajar AR', 'Bajar AR', 'Bajar AR', 'Bajar AR', 'Bajar AR', 'Bajar A3', 'Bajar AR', 'Bajar A3', 'Bajar A2B', 'Subir AR', 'Subir AR', 'Subir AR', 'Subir AR', 'Subir AR', 'Subir AR', 'Bajar AR con P', 'Subir AR', 'Subir A3', 'Bajar A2B', 'Bajar AR', 'Subir AR con P', 'Bajar AR', 'Bajar AR', 'Bajar AR', 'Bajar AR', 'Bajar AR', 'Bajar AR', 'Subir A3', 'Subir A3', 'Subir AR', 'Subir AR', 'Subir AR', 'Subir AR', 'Subir AR', 'Subir AR', 'Bajar AR con P', 'Subir AR', 'Subir A3', 'Bajar A2B', 'Bajar AR', 'Subir AR con P', 'Bajar AR', 'Bajar AR', 'Bajar AR', 'Bajar AR', 'Bajar AR', 'Bajar AR', 'Bajar A3 con P', 'Subir A3', 'Subir AR', 'Subir AR', 'Subir AR', 'Subir AR', 'Subir AR', 'Subir AR', 'Subir A2B', 'Bajar A3', 'Bajar AR', 'Bajar AR', 'Bajar AR', 'Bajar AR', 'Bajar AR', 'Bajar A3 con P', 'Bajar AR', 'Subir A3', 'Subir A3', 'Subir AR', 'Subir AR', 'Subir AR', 'Subir AR', 'Subir A2B', 'Bajar A3', 'Bajar AR', 'Bajar AR', 'Bajar AR', 'Subir A2B', 'Bajar AR', 'Bajar A3', 'Bajar A3 con P', 'Subir AR', 'Subir AR', 'Subir AR', 'Subir AR', 'Subir A3', 'Subir AR', 'Subir AR', 'Subir A3', 'Subir A3', 'Bajar AR', 'Bajar AR', 'Bajar AR', 'Bajar AR', 'Bajar AR', 'Bajar AR', 'Bajar A3', 'Bajar A2B', 'Subir AR', 'Subir AR', 'Subir AR', 'Subir AR', 'Subir AR', 'Bajar A2B', 'Subir AR', 'Subir A3', 'Bajar A2B', 'Bajar AR', 'Bajar AR', 'Bajar AR', 'Bajar AR', 'Bajar AR', 'Bajar AR', 'Bajar A3', 'Bajar A3', 'Subir AR', 'Subir AR', 'Subir AR', 'Subir AR', 'Subir AR', 'Subir AR', 'Bajar A3', 'Subir A3 con P', 'Bajar AR', 'Subir AR con P', 'Bajar AR', 'Bajar AR', 'Bajar AR', 'Bajar AR', 'Bajar AR', 'Bajar A2B', 'Bajar AR', 'Subir A3', 'Subir A2A', 'Subir AR', 'Subir AR', 'Subir AR', 'Subir AR', 'Subir AR', 'Subir AR', 'Bajar AR con P', 'Subir AR', 'Subir A3', 'Subir A1', 'Bajar AR', 'Subir AR con P', 'Bajar AR', 'Bajar AR', 'Bajar AR', 'Bajar AR', 'Bajar AR', 'Bajar AR', 'Bajar A3 con P', 'Subir A3', 'Subir AR', 'Subir AR', 'Subir AR', 'Subir AR', 'Subir AR', 'Subir AR', 'Subir A2B', 'Bajar A3', 'Bajar AR', 'Bajar AR', 'Bajar AR', 'Bajar AR', 'Bajar AR', 'Bajar A3 con P', 'Bajar AR', 'Subir A3', 'Subir A3', 'Subir AR', 'Subir AR', 'Subir AR', 'Subir AR', 'Bajar A3', 'Subir AR', 'Subir AR con P', 'Bajar AR', 'Bajar AR', 'Bajar AR', 'Bajar AR', 'Bajar AR', 'Bajar AR', 'Bajar A3', 'Bajar A3', 'Subir AR', 'Subir AR', 'Subir AR', 'Subir AR', 'Subir AR', 'Subir AR', 'Bajar AR con P', 'Subir AR', 'Bajar A3', 'Subir A2B', 'Bajar AR', 'Subir AR con P', 'Bajar AR', 'Bajar AR', 'Bajar AR', 'Bajar AR', 'Bajar AR', 'Bajar AR', 'Subir A2B', 'Subir A3', 'Subir AR', 'Subir AR', 'Subir AR', 'Subir AR', 'Subir AR', 'Subir AR', 'Bajar AR con P', 'Subir AR', 'Subir A3', 'Subir A3 con P', 'Bajar AR', 'Bajar AR', 'Bajar AR', 'Bajar AR', 'Bajar AR', 'Bajar AR', 'Subir A3 con P', 'Bajar A3', 'Subir AR', 'Subir AR', 'Subir AR', 'Subir AR', 'Subir AR', 'Subir AR', 'Bajar AR con P', 'Bajar AR con P', 'Subir AR', 'Subir AR', 'Subir A3', 'Subir A2B', 'Bajar AR', 'Bajar AR', 'Subir AR con P', 'Subir AR con P', 'Bajar AR', 'Bajar AR', 'Bajar AR', 'Bajar AR', 'Bajar AR', 'Subir A1', 'Bajar AR', 'Bajar A3 con P', 'Subir A3', 'Subir AR', 'Subir AR', 'Subir AR', 'Subir AR', 'Subir AR', 'Subir AR', 'Bajar A3', 'Bajar A3 con P', 'Bajar AR', 'Subir AR con P', 'Bajar AR', 'Bajar AR', 'Bajar AR', 'Bajar AR', 'Bajar AR', 'Bajar AR', 'Bajar A3', 'Bajar A3', 'Subir AR', 'Subir AR', 'Subir AR', 'Subir AR', 'Subir AR', 'Subir AR', 'Bajar AR con P', 'Subir AR', 'Bajar A2B', 'Subir A2A', 'Bajar AR', 'Subir AR con P', 'Bajar AR', 'Bajar AR', 'Bajar AR', 'Bajar AR', 'Bajar AR', 'Bajar AR', 'Subir A3', 'Subir A3', 'Subir AR', 'Subir AR', 'Subir AR', 'Subir AR', 'Subir AR', 'Subir AR', 'Bajar AR con P', 'Subir AR', 'Subir A3 con P', 'Subir A3 con P', 'Bajar AR con P', 'Subir AR', 'Subir A2B', 'Bajar A3', 'Bajar AR', 'Subir AR con P', 'Bajar AR', 'Bajar AR', 'Bajar AR', 'Bajar AR', 'Subir A3', 'Bajar A3 con P', 'Subir AR', 'Subir AR', 'Subir AR', 'Bajar A3', 'Subir AR', 'Bajar A3', 'Bajar A3', 'Bajar AR', 'Bajar AR', 'Bajar AR', 'Bajar AR', 'Bajar AR', 'Bajar AR', 'Subir A3', 'Subir A3', 'Subir AR', 'Bajar A2B', 'Subir AR', 'Subir AR', 'Subir AR', 'Bajar A3', 'Subir AR', 'Bajar A2B', 'Subir AR', 'Subir A3', 'Bajar A2B', 'Bajar AR', 'Bajar AR', 'Bajar AR', 'Bajar AR', 'Bajar AR', 'Bajar AR', 'Subir A3', 'Subir A3 con P', 'Subir AR', 'Subir AR', 'Subir AR', 'Subir AR', 'Subir AR', 'Subir AR', 'Bajar AR con P', 'Subir AR', 'Bajar A3', 'Bajar A3', 'Bajar AR', 'Subir AR con P', 'Bajar AR', 'Bajar AR', 'Bajar AR', 'Bajar AR', 'Bajar AR', 'Bajar AR', 'Bajar A3', 'Bajar A3', 'Subir AR', 'Subir AR', 'Subir AR', 'Subir AR', 'Subir AR', 'Subir AR', 'Bajar AR con P', 'Subir AR', 'Bajar A2B', 'Subir A3', 'Bajar AR', 'Subir AR con P', 'Bajar AR', 'Bajar AR', 'Bajar AR', 'Bajar AR', 'Bajar AR', 'Bajar A2A', 'Bajar AR', 'Subir A3', 'Subir A3', 'Subir AR', 'Subir AR', 'Subir AR', 'Subir AR', 'Subir AR', 'Subir AR', 'Bajar AR con P', 'Subir AR', 'Bajar A3', 'Subir A3 con P', 'Bajar AR', 'Bajar AR', 'Bajar AR', 'Bajar AR', 'Bajar AR', 'Bajar A3 con P', 'Bajar AR', 'Subir A3', 'Subir A3', 'Subir AR', 'Subir AR', 'Subir AR', 'Subir AR', 'Subir A2A', 'Bajar A3', 'Bajar AR', 'Bajar AR', 'Bajar AR', 'Subir A2B', 'Bajar AR', 'Subir A3', 'Subir A2B', 'Subir AR', 'Subir AR', 'Subir AR', 'Subir AR', 'Bajar A3', 'Subir AR', 'Subir AR con P', 'Bajar AR', 'Bajar AR', 'Bajar AR', 'Bajar AR', 'Bajar AR', 'Bajar AR', 'Bajar A2A', 'Subir A3', 'Subir AR', 'Subir AR', 'Subir AR', 'Subir AR', 'Subir AR', 'Subir AR', 'Bajar AR con P', 'Subir AR', 'Bajar A3', 'Bajar A3', 'Bajar AR', 'Subir AR con P', 'Bajar AR', 'Bajar AR', 'Bajar AR', 'Bajar AR', 'Bajar AR', 'Bajar A3', 'Bajar AR', 'Bajar A2A', 'Subir A3', 'Subir A2B', 'Subir AR', 'Subir AR', 'Subir AR', 'Subir AR', 'Subir AR', 'Subir AR', 'Bajar AR con P', 'Subir AR', 'Subir A3 con P', 'Subir A3 con P', 'Bajar AR con P', 'Subir AR', 'Subir A2B', 'Bajar A3', 'Bajar AR', 'Subir AR con P', 'Bajar AR', 'Bajar AR', 'Bajar AR', 'Bajar AR', 'Bajar AR', 'Bajar AR', 'Bajar A2A', 'Subir A3', 'Subir AR', 'Subir AR', 'Subir AR', 'Subir AR', 'Subir AR', 'Subir AR', 'Bajar AR con P', 'Bajar AR con P', 'Subir AR', 'Subir AR', 'Bajar A3', 'Bajar A3', 'Bajar AR', 'Bajar AR', 'Subir AR con P', 'Subir AR con P', 'Bajar AR', 'Bajar AR', 'Bajar AR', 'Bajar AR', 'Bajar AR', 'Bajar A3', 'Bajar AR', 'Bajar A3', 'Bajar A2B', 'Subir AR', 'Subir AR', 'Subir AR', 'Subir AR', 'Subir AR', 'Subir AR', 'Bajar AR con P', 'Subir AR', 'Subir A3', 'Subir A2B', 'Subir A2A', 'Bajar AR', 'Subir AR con P', 'Bajar AR', 'Bajar AR', 'Bajar AR', 'Bajar AR', 'Bajar A1', 'Bajar A3', 'Subir AR', 'Subir AR', 'Subir AR', 'Subir AR', 'Bajar AR con P', 'Subir AR', 'Bajar A2A', 'Bajar A2A', 'Bajar AR', 'Subir AR con P', 'Bajar AR', 'Bajar AR', 'Bajar AR', 'Bajar AR', 'Bajar AR', 'Bajar AR', 'Subir A3', 'Subir A3', 'Subir AR', 'Subir AR', 'Subir AR', 'Subir AR', 'Subir AR', 'Subir AR', 'Bajar AR con P', 'Subir AR', 'Subir A3 con P', 'Subir A3 con P', 'Bajar AR con P', 'Subir AR', 'Bajar A2B', 'Bajar A3', 'Bajar AR', 'Subir AR con P', 'Bajar AR', 'Bajar AR', 'Bajar AR', 'Bajar AR', 'Bajar AR', 'Bajar AR', 'Subir A3', 'Bajar A3 con P', 'Subir AR', 'Subir AR', 'Subir AR', 'Subir AR', 'Subir AR', 'Subir A3', 'Subir AR', 'Bajar A2B', 'Bajar A3', 'Subir A3 con P', 'Bajar AR con P', 'Bajar AR con P', 'Subir AR', 'Subir AR', 'Bajar A3', 'Bajar A3', 'Bajar AR', 'Bajar AR', 'Subir AR con P', 'Subir AR con P', 'Bajar AR', 'Bajar AR', 'Bajar AR', 'Bajar AR', 'Bajar AR', 'Bajar AR', 'Bajar A3', 'Bajar A3', 'Subir AR', 'Subir AR', 'Subir AR', 'Subir AR', 'Subir AR', 'Subir AR', 'Bajar AR con P', 'Subir AR', 'Subir A3', 'Subir A2B', 'Bajar AR', 'Subir AR con P', 'Bajar AR', 'Bajar AR', 'Bajar AR', 'Bajar AR', 'Bajar AR', 'Subir A2A', 'Bajar AR', 'Subir A3', 'Bajar A1', 'Subir AR', 'Subir AR', 'Subir AR', 'Subir AR', 'Subir AR', 'Subir AR', 'Bajar AR con P', 'Subir AR', 'Subir A3 con P', 'Subir A3 con P', 'Bajar AR con P', 'Subir AR', 'Bajar A1', 'Bajar A3', 'Bajar AR', 'Subir AR con P', 'Bajar AR', 'Bajar AR', 'Bajar AR', 'Bajar AR', 'Bajar AR', 'Bajar AR', 'Subir A3', 'Bajar A3 con P', 'Subir AR', 'Subir AR', 'Subir AR', 'Subir AR', 'Subir AR', 'Subir A3', 'Subir AR', 'Subir A2B', 'Bajar A3', 'Subir A3 con P', 'Bajar AR con P', 'Bajar AR con P', 'Subir AR', 'Subir AR', 'Bajar A3', 'Bajar A3', 'Bajar AR', 'Bajar AR', 'Subir AR con P', 'Subir AR con P', 'Bajar AR', 'Bajar AR', 'Bajar AR', 'Bajar AR', 'Bajar AR', 'Bajar AR', 'Bajar A3', 'Bajar A3', 'Subir AR', 'Subir AR', 'Subir AR', 'Subir AR', 'Subir AR', 'Subir AR', 'Bajar AR con P', 'Subir AR', 'Subir A3', 'Bajar A2B', 'Bajar AR', 'Subir AR con P', 'Bajar AR', 'Bajar AR', 'Bajar AR', 'Bajar AR', 'Bajar AR', 'Bajar A2B', 'Bajar AR', 'Subir A3', 'Bajar A2B', 'Subir AR', 'Subir AR', 'Subir AR', 'Subir AR', 'Subir AR', 'Subir AR', 'Bajar AR con P', 'Subir AR', 'Subir A3 con P', 'Subir A3 con P', 'Bajar AR con P', 'Subir AR', 'Bajar A2B', 'Bajar A3', 'Bajar AR', 'Subir AR con P', 'Bajar AR', 'Bajar AR', 'Bajar AR', 'Bajar AR', 'Bajar AR', 'Bajar AR', 'Subir A3', 'Bajar A3 con P', 'Subir AR', 'Subir AR', 'Subir AR', 'Subir AR', 'Subir AR', 'Subir A3', 'Subir AR', 'Subir A2A', 'Bajar A3', 'Subir A3 con P', 'Bajar AR con P', 'Bajar AR con P', 'Subir AR', 'Subir AR', 'Bajar A3', 'Bajar A3', 'Bajar AR', 'Bajar AR', 'Subir AR con P', 'Subir AR con P', 'Bajar AR', 'Bajar AR', 'Bajar AR', 'Bajar AR', 'Bajar A3', 'Bajar AR', 'Bajar AR', 'Bajar A3', 'Subir A2B', 'Subir AR', 'Subir AR', 'Subir AR', 'Subir AR', 'Subir AR', 'Subir AR', 'Bajar AR con P', 'Subir AR', 'Subir A3', 'Bajar A2B', 'Bajar A2A', 'Bajar AR', 'Subir AR con P', 'Bajar AR', 'Bajar AR', 'Bajar AR', 'Bajar A3', 'Bajar AR', 'Bajar AR', 'Bajar A2A', 'Bajar AR', 'Subir A3', 'Subir A3', 'Subir AR', 'Subir AR', 'Subir AR', 'Subir AR', 'Subir AR', 'Subir AR', 'Bajar AR con P', 'Subir AR', 'Subir A3 con P', 'Subir A3 con P', 'Bajar AR con P', 'Bajar AR con P', 'Subir AR', 'Subir AR', 'Bajar A3', 'Bajar A3', 'Bajar AR', 'Bajar A3', 'Bajar AR', 'Bajar AR con P', 'Subir AR', 'Subir AR', 'Subir AR', 'Subir A3', 'Subir A3', 'Bajar AR', 'Bajar AR', 'Bajar AR', 'Bajar AR con P', 'Subir AR', 'Subir AR', 'Subir AR', 'Subir AR', 'Subir A3', 'Subir A2B con P', 'Bajar AR', 'Bajar AR', 'Bajar AR', 'Bajar AR', 'Bajar AR', 'Bajar AR', 'Bajar A3', 'Bajar A3', 'Subir AR', 'Subir AR', 'Subir AR', 'Subir AR', 'Subir AR', 'Subir AR', 'Bajar A3', 'Bajar A3', 'Bajar AR', 'Bajar AR', 'Bajar AR', 'Bajar AR', 'Bajar AR', 'Bajar AR', 'Subir A2B', 'Subir A3', 'Subir AR', 'Subir AR', 'Subir AR', 'Subir AR', 'Subir AR', 'Subir A2B', 'Subir AR', 'Subir A3', 'Subir A3', 'Bajar AR', 'Bajar AR', 'Bajar AR', 'Bajar AR', 'Bajar AR', 'Bajar AR', 'Subir A3', 'Subir A2B', 'Subir AR', 'Subir AR', 'Subir AR', 'Subir AR', 'Subir AR', 'Subir AR', 'Subir A2A', 'Bajar A3', 'Bajar AR', 'Bajar AR', 'Bajar AR', 'Bajar AR', 'Bajar AR', 'Bajar AR', 'Bajar A3', 'Bajar A3', 'Subir AR', 'Subir AR', 'Subir AR', 'Subir AR', 'Subir AR', 'Subir AR', 'Bajar A3', 'Bajar A2B', 'Bajar AR', 'Bajar AR', 'Bajar AR', 'Bajar AR', 'Bajar AR', 'Bajar AR', 'Subir A2A', 'Subir A3', 'Subir AR', 'Subir AR', 'Subir AR', 'Subir AR', 'Subir AR', 'Subir AR', 'Subir A3', 'Subir A3', 'Bajar AR', 'Bajar AR', 'Bajar AR', 'Bajar AR', 'Bajar AR', 'Bajar AR', 'Subir A3', 'Subir A2B', 'Subir AR', 'Subir AR', 'Subir AR', 'Subir AR', 'Subir AR', 'Subir A2A', 'Subir AR', 'Bajar A3', 'Bajar A3', 'Bajar AR', 'Bajar AR', 'Bajar AR', 'Bajar AR', 'Bajar AR', 'Bajar AR', 'Subir A3', 'Subir A2A', 'Subir AR', 'Subir AR', 'Subir AR', 'Subir AR', 'Subir AR', 'Bajar A2B', 'Subir AR', 'Subir A3', 'Bajar A2B', 'Bajar AR', 'Bajar AR', 'Bajar AR', 'Bajar AR', 'Bajar AR', 'Bajar AR', 'Bajar A3', 'Bajar A3', 'Subir AR', 'Subir AR', 'Subir AR', 'Subir AR', 'Subir AR', 'Subir AR', 'Bajar A3', 'Bajar A3', 'Bajar AR', 'Bajar AR', 'Bajar AR', 'Bajar AR', 'Bajar AR', 'Bajar AR', 'Subir A2B', 'Subir A3', 'Subir AR', 'Subir AR', 'Subir AR', 'Subir AR', 'Subir AR', 'Subir A2B', 'Subir AR', 'Bajar A3', 'Bajar A2A', 'Bajar AR', 'Bajar AR', 'Bajar AR', 'Bajar AR', 'Bajar AR', 'Bajar AR', 'Subir A1', 'Subir A3', 'Subir AR', 'Subir AR', 'Subir AR', 'Subir AR', 'Subir AR', 'Subir AR', 'Bajar A2B', 'Subir A3', 'Bajar AR', 'Bajar AR', 'Bajar AR', 'Bajar AR', 'Bajar AR', 'Bajar AR', 'Subir A3', 'Subir A3', 'Subir AR', 'Subir AR', 'Subir AR', 'Subir AR', 'Subir AR', 'Subir AR', 'Bajar A2B', 'Bajar A3', 'Bajar A2A']\n",
      "Algoritmo: depth_first_graph_search\n",
      "Longitud de la solución: 1436. Nodos analizados: 4813\n",
      "Wall time: 35.1 s\n"
     ]
    }
   ],
   "source": [
    "%%time\n",
    "resuelve_Ascensores(problema,depth_first_graph_search)"
   ]
  },
  {
   "cell_type": "markdown",
   "metadata": {},
   "source": [
    "## Búsqueda guiadas"
   ]
  },
  {
   "cell_type": "code",
   "execution_count": 34,
   "metadata": {},
   "outputs": [
    {
     "name": "stdout",
     "output_type": "stream",
     "text": [
      "Solución: ['Subir A1 con P', 'Subir A1 con P', 'Subir A1 con P', 'Subir A1 con P', 'Bajar A2A', 'Bajar A2A', 'Bajar A2A', 'Bajar A2A', 'Subir A2A con P', 'Bajar A1', 'Bajar A1', 'Subir A2A']\n",
      "Algoritmo: astar_search\n",
      "Heurística: myHeuristic\n",
      "Longitud de la solución: 12. Nodos analizados: 6971\n",
      "Wall time: 1min 12s\n"
     ]
    }
   ],
   "source": [
    "%%time\n",
    "resuelve_Ascensores(problema,astar_search,problema.myHeuristic)"
   ]
  },
  {
   "cell_type": "code",
   "execution_count": 16,
   "metadata": {},
   "outputs": [
    {
     "name": "stdout",
     "output_type": "stream",
     "text": [
      "Solución: ['Subir A1 con P', 'Subir A1 con P', 'Bajar A2A', 'Bajar A2A', 'Subir A1 con P', 'Subir A1 con P', 'Bajar A1', 'Bajar A1', 'Bajar A2A', 'Bajar A2A', 'Subir A2A con P', 'Subir A2A']\n",
      "Algoritmo: astar_search\n",
      "Heurística: myHeuristic2\n",
      "Longitud de la solución: 12. Nodos analizados: 1471\n",
      "Wall time: 13.6 s\n"
     ]
    }
   ],
   "source": [
    "%%time\n",
    "resuelve_Ascensores(problema,astar_search,problema.myHeuristic2)"
   ]
  }
 ],
 "metadata": {
  "kernelspec": {
   "display_name": "Python 3",
   "language": "python",
   "name": "python3"
  },
  "language_info": {
   "codemirror_mode": {
    "name": "ipython",
    "version": 3
   },
   "file_extension": ".py",
   "mimetype": "text/x-python",
   "name": "python",
   "nbconvert_exporter": "python",
   "pygments_lexer": "ipython3",
   "version": "3.7.4"
  }
 },
 "nbformat": 4,
 "nbformat_minor": 2
}
