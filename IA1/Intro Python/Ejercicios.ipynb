{
 "cells": [
  {
   "cell_type": "markdown",
   "metadata": {},
   "source": [
    "## Resuelve los siguientes ejercicios en este archivo y entregalo en el campus al final de la clase."
   ]
  },
  {
   "cell_type": "markdown",
   "metadata": {},
   "source": [
    "_Ejercicio 1_. Escribe un programa que calcule el volumen de un cono a partir del radio de la base y su altura. Usa la siguiente fórmula:\n",
    "volumen = pi * radio * radio * altura / 3\n",
    "Solicita los valores de radio y altura al usuario.  El valor aproximado de pi es 3.14159.\n",
    "\n"
   ]
  },
  {
   "cell_type": "code",
   "execution_count": 1,
   "metadata": {},
   "outputs": [
    {
     "name": "stdout",
     "output_type": "stream",
     "text": [
      "Dime radio: 1\n",
      "Dime altura: 1\n",
      "El volumen es:  1.0471975511965976\n"
     ]
    }
   ],
   "source": [
    "import math\n",
    "radio = int(input('Dime radio: '))\n",
    "altura = int(input('Dime altura: '))\n",
    "volumen = (math.pi * radio * radio * altura) / 3\n",
    "print('El volumen es: ', volumen)"
   ]
  },
  {
   "cell_type": "markdown",
   "metadata": {},
   "source": [
    "_Ejercicio 2_.  Escribe un programa que clasifique los elementos de una lista en positivos y negativos. Los elementos positivos deben añadirse a una lista y los negativos a otra. Si la lista original contiene ceros, se deben ignorar."
   ]
  },
  {
   "cell_type": "code",
   "execution_count": 2,
   "metadata": {},
   "outputs": [
    {
     "name": "stdout",
     "output_type": "stream",
     "text": [
      "Positivos:  [7, 6, 234]\n",
      "Negativos:  [-9, -4, -7]\n"
     ]
    }
   ],
   "source": [
    "lista_original = [7, 6, -9, 234, -4, 0, -7]\n",
    "i = 0\n",
    "positivo = []\n",
    "negativo = []\n",
    "while i < len(lista_original):\n",
    "    if lista_original[i] > 0:\n",
    "        positivo.append(lista_original[i])\n",
    "    elif lista_original[i] < 0:\n",
    "        negativo.append(lista_original[i])\n",
    "    i += 1\n",
    "print('Positivos: ', positivo)\n",
    "print('Negativos: ', negativo)\n",
    "\n",
    "# Escribe aquí la solución del ejercicio 2.\n",
    "#Ejemplo: \n",
    "#lista_original = [7, 6, -9, 234, -4, 0, -7]\n",
    "#Positivos: [7, 6, 234]\n",
    "#Negativos: [-9, -4, -7]"
   ]
  },
  {
   "cell_type": "markdown",
   "metadata": {},
   "source": [
    "_Ejercicio 3_.  Escribir una función cuadrados(l) que recibiendo una secuencia l de números, devuelve la lista de los cuadrados de esos números, en el mismo orden. Por ejemplo:\n",
    "\tcuadrados([4,1,5.2,3,8])\n",
    "\t[16, 1, 27.040000000000003, 9, 64]\n",
    "\tHacer dos versiones: una usando un bucle explícito, y la otra mediante definición de listas por comprensión."
   ]
  },
  {
   "cell_type": "code",
   "execution_count": 10,
   "metadata": {},
   "outputs": [],
   "source": [
    "\n",
    "def cuadrados(lista_n):\n",
    "    cuad = []\n",
    "    i = 0\n",
    "    while i < len(lista_n):\n",
    "        cuad.append(lista_n[i] ** 2)\n",
    "        i += 1\n",
    "    print('Lista de Cuadrados: ', cuad)\n",
    "    \n",
    "    \n",
    "def cuadrados_comp(lista_n):\n",
    "    cuad = [n*n for n in lista_n]\n",
    "    print('Lista de Comprension: ', cuad)\n",
    "\n",
    "# Escribe aquí la solución del ejercicio 3.\n",
    "# Escribir una función cuadrados(l) que recibiendo una secuencia l de números,\n",
    "# devuelve la lista de los cuadrados de esos números, en el mismo orden.\n",
    "\n",
    "\n",
    "# Por ejemplo:\n",
    "# \n",
    "# >>> cuadrados([4,1,5.2,3,8])\n",
    "# [16, 1, 27.040000000000003, 9, 64]\n",
    "\n",
    "# Hacer dos versiones: una usando un bucle explícito, y la otra mediante\n",
    "# definición de listas por comprensión.\n",
    "# ---------------------------------------------------------------------------\n"
   ]
  },
  {
   "cell_type": "code",
   "execution_count": 11,
   "metadata": {},
   "outputs": [
    {
     "name": "stdout",
     "output_type": "stream",
     "text": [
      "Cuadrados:  [16, 1, 27.040000000000003, 9, 64]\n"
     ]
    }
   ],
   "source": [
    "cuadrados([4,1,5.2,3,8])"
   ]
  },
  {
   "cell_type": "code",
   "execution_count": 12,
   "metadata": {},
   "outputs": [
    {
     "name": "stdout",
     "output_type": "stream",
     "text": [
      "Comprension:  [16, 1, 27.040000000000003, 9, 64]\n"
     ]
    }
   ],
   "source": [
    "cuadrados_comp([4,1,5.2,3,8])"
   ]
  },
  {
   "cell_type": "code",
   "execution_count": null,
   "metadata": {},
   "outputs": [],
   "source": []
  }
 ],
 "metadata": {
  "kernelspec": {
   "display_name": "Python 3",
   "language": "python",
   "name": "python3"
  },
  "language_info": {
   "codemirror_mode": {
    "name": "ipython",
    "version": 3
   },
   "file_extension": ".py",
   "mimetype": "text/x-python",
   "name": "python",
   "nbconvert_exporter": "python",
   "pygments_lexer": "ipython3",
   "version": "3.7.3"
  }
 },
 "nbformat": 4,
 "nbformat_minor": 2
}
